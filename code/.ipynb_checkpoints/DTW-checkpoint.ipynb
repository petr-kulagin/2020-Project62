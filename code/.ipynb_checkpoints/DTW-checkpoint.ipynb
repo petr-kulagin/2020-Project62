{
 "cells": [
  {
   "cell_type": "code",
   "execution_count": 34,
   "metadata": {},
   "outputs": [],
   "source": [
    "from sklearn.neighbors import KNeighborsClassifier\n",
    "import dtaidistance\n",
    "import numpy as np"
   ]
  },
  {
   "cell_type": "code",
   "execution_count": 42,
   "metadata": {},
   "outputs": [],
   "source": [
    "def L2_signals(v1, v2):\n",
    "    return dtaidistance.dtw.distance(v1, v2, window=1)\n",
    "\n",
    "def DTW_signals(v1, v2):\n",
    "    return dtaidistance.dtw.distance(v1, v2)\n",
    "\n",
    "def DTW_signals_path(v1, v2):\n",
    "    return dtaidistance.dtw.warping_path(v1, v2)\n",
    "\n",
    "def DTW_signals_warping_paths(v1, v2):\n",
    "    return dtaidistance.dtw.warping_paths(v1, v2)\n",
    "\n",
    "def DTW_signals_visualization(v1, v2, path):\n",
    "    return dtaidistance.dtw_visualisation.plot_warping(v1, v2, path)\n",
    "\n",
    "\n",
    "\n",
    "#def DTW_signals(v1, v2):\n",
    "#    n = len(v1)\n",
    "#    dp = np.zeros((n, n))\n",
    "#    dp[0][0] = (v1[0] - v2[0]) ** 2\n",
    "#    for i in range(1, n):\n",
    "#        dp[i][0] = dp[i - 1][0] + (v1[i] - v2[0]) ** 2\n",
    "#    for i in range(1, n):\n",
    "#        dp[0][i] = dp[0][i - 1] + (v1[0] - v2[i]) ** 2\n",
    "#    for i in range(1, n):\n",
    "#        for j in range(1, n):\n",
    "#            dp[i][j] = (v1[i] - v2[j]) ** 2 + min(dp[i - 1][j], dp[i][j - 1], dp[i - 1][j - 1])\n",
    "#    return dp[n - 1][n - 1]"
   ]
  },
  {
   "cell_type": "code",
   "execution_count": 22,
   "metadata": {},
   "outputs": [],
   "source": [
    "def DTW_signals(v1, v2):\n",
    "    return dtaidistance.dtw.distance(v1, v2)"
   ]
  },
  {
   "cell_type": "code",
   "execution_count": 27,
   "metadata": {},
   "outputs": [],
   "source": [
    "v1 = [0, 1, 0]\n",
    "v2 = [1, 0, 1]"
   ]
  },
  {
   "cell_type": "code",
   "execution_count": 28,
   "metadata": {},
   "outputs": [
    {
     "data": {
      "text/plain": [
       "2.0000000000000004"
      ]
     },
     "execution_count": 28,
     "metadata": {},
     "output_type": "execute_result"
    }
   ],
   "source": [
    "DTW_signals(v1, v2) ** 2"
   ]
  },
  {
   "cell_type": "code",
   "execution_count": 29,
   "metadata": {},
   "outputs": [
    {
     "data": {
      "text/plain": [
       "2.9999999999999996"
      ]
     },
     "execution_count": 29,
     "metadata": {},
     "output_type": "execute_result"
    }
   ],
   "source": [
    "L2_signals(v1, v2) ** 2"
   ]
  },
  {
   "cell_type": "code",
   "execution_count": 37,
   "metadata": {},
   "outputs": [
    {
     "data": {
      "text/plain": [
       "[(0, 0), (0, 1), (1, 2), (2, 2)]"
      ]
     },
     "execution_count": 37,
     "metadata": {},
     "output_type": "execute_result"
    }
   ],
   "source": [
    "path = DTW_signals_path(v1, v2)\n",
    "path"
   ]
  },
  {
   "cell_type": "code",
   "execution_count": 36,
   "metadata": {
    "scrolled": true
   },
   "outputs": [
    {
     "data": {
      "text/plain": [
       "(1.4142135623730951,\n",
       " array([[0.        ,        inf,        inf,        inf],\n",
       "        [       inf, 1.        , 1.        , 1.41421356],\n",
       "        [       inf, 1.        , 1.41421356, 1.        ],\n",
       "        [       inf, 1.41421356, 1.        , 1.41421356]]))"
      ]
     },
     "execution_count": 36,
     "metadata": {},
     "output_type": "execute_result"
    }
   ],
   "source": [
    "DTW_signals_warping_paths(v1, v2)"
   ]
  },
  {
   "cell_type": "code",
   "execution_count": 43,
   "metadata": {},
   "outputs": [
    {
     "ename": "AttributeError",
     "evalue": "module 'dtaidistance' has no attribute 'dtw_visualisation'",
     "output_type": "error",
     "traceback": [
      "\u001b[0;31m---------------------------------------------------------------------------\u001b[0m",
      "\u001b[0;31mAttributeError\u001b[0m                            Traceback (most recent call last)",
      "\u001b[0;32m<ipython-input-43-179aaba24975>\u001b[0m in \u001b[0;36m<module>\u001b[0;34m\u001b[0m\n\u001b[0;32m----> 1\u001b[0;31m \u001b[0mDTW_signals_visualization\u001b[0m\u001b[0;34m(\u001b[0m\u001b[0mv1\u001b[0m\u001b[0;34m,\u001b[0m \u001b[0mv2\u001b[0m\u001b[0;34m,\u001b[0m \u001b[0mpath\u001b[0m\u001b[0;34m)\u001b[0m\u001b[0;34m\u001b[0m\u001b[0;34m\u001b[0m\u001b[0m\n\u001b[0m",
      "\u001b[0;32m<ipython-input-42-1eb313e812d2>\u001b[0m in \u001b[0;36mDTW_signals_visualization\u001b[0;34m(v1, v2, path)\u001b[0m\n\u001b[1;32m     12\u001b[0m \u001b[0;34m\u001b[0m\u001b[0m\n\u001b[1;32m     13\u001b[0m \u001b[0;32mdef\u001b[0m \u001b[0mDTW_signals_visualization\u001b[0m\u001b[0;34m(\u001b[0m\u001b[0mv1\u001b[0m\u001b[0;34m,\u001b[0m \u001b[0mv2\u001b[0m\u001b[0;34m,\u001b[0m \u001b[0mpath\u001b[0m\u001b[0;34m)\u001b[0m\u001b[0;34m:\u001b[0m\u001b[0;34m\u001b[0m\u001b[0;34m\u001b[0m\u001b[0m\n\u001b[0;32m---> 14\u001b[0;31m     \u001b[0;32mreturn\u001b[0m \u001b[0mdtaidistance\u001b[0m\u001b[0;34m.\u001b[0m\u001b[0mdtw_visualisation\u001b[0m\u001b[0;34m.\u001b[0m\u001b[0mplot_warping\u001b[0m\u001b[0;34m(\u001b[0m\u001b[0mv1\u001b[0m\u001b[0;34m,\u001b[0m \u001b[0mv2\u001b[0m\u001b[0;34m,\u001b[0m \u001b[0mpath\u001b[0m\u001b[0;34m)\u001b[0m\u001b[0;34m\u001b[0m\u001b[0;34m\u001b[0m\u001b[0m\n\u001b[0m\u001b[1;32m     15\u001b[0m \u001b[0;34m\u001b[0m\u001b[0m\n\u001b[1;32m     16\u001b[0m \u001b[0;34m\u001b[0m\u001b[0m\n",
      "\u001b[0;31mAttributeError\u001b[0m: module 'dtaidistance' has no attribute 'dtw_visualisation'"
     ]
    }
   ],
   "source": [
    "DTW_signals_visualization(v1, v2, path)"
   ]
  },
  {
   "cell_type": "code",
   "execution_count": 4,
   "metadata": {},
   "outputs": [],
   "source": [
    "def DTW_time_series(v1, v2, metric):\n",
    "    n = len(v1)\n",
    "    m = len(v2)\n",
    "    dp = np.zeros((n, m))\n",
    "    dp[0][0] = metric(v1[0], v2[0])\n",
    "    for i in range(1, n):\n",
    "        dp[i][0] = dp[i - 1][0] + metric(v1[i], v2[0])\n",
    "    for i in range(1, m):\n",
    "        dp[0][i] = dp[0][i - 1] + metric(v1[0], v2[i])\n",
    "    for i in range(1, n):\n",
    "        for j in range(1, m):\n",
    "            dp[i][j] = metric(v1[i], v2[j]) + min(dp[i - 1][j], dp[i][j - 1], dp[i - 1][j - 1])\n",
    "    return dp[n - 1][m - 1]"
   ]
  },
  {
   "cell_type": "code",
   "execution_count": 5,
   "metadata": {},
   "outputs": [],
   "source": [
    "class Experiment:\n",
    "    '''\n",
    "    MDTW model for machine learning solving classification problem\n",
    "    '''\n",
    "    \n",
    "    def __init__(self, n_neighbors=5):\n",
    "        self.L2_model = KNeighborsClassifier(n_neighbors, metric=L2_signals)\n",
    "        self.DTW_model = KNeighborsClassifier(n_neighbors, metric=DTW_signals)\n",
    "    \n",
    "    def fit(self, X, y):\n",
    "        self.L2_model.fit(X, y)\n",
    "        self.DTW_model.fit(X, y)\n",
    "        \n",
    "    def predict(self, y):\n",
    "        self.L2_predicted = self.L2_model.predict(y)\n",
    "        self.DTW_predicted = self.DTW_model.predict(y)\n",
    "        \n",
    "    def get_accuracy(self, true_val):\n",
    "        return (np.sum(true_val == self.L2_predicted) / len(true_val),\n",
    "                np.sum(true_val == self.DTW_predicted) / len(true_val))"
   ]
  },
  {
   "cell_type": "code",
   "execution_count": null,
   "metadata": {},
   "outputs": [],
   "source": []
  }
 ],
 "metadata": {
  "kernelspec": {
   "display_name": "Python [conda env:mipt-stats] *",
   "language": "python",
   "name": "conda-env-mipt-stats-py"
  },
  "language_info": {
   "codemirror_mode": {
    "name": "ipython",
    "version": 3
   },
   "file_extension": ".py",
   "mimetype": "text/x-python",
   "name": "python",
   "nbconvert_exporter": "python",
   "pygments_lexer": "ipython3",
   "version": "3.7.6"
  }
 },
 "nbformat": 4,
 "nbformat_minor": 4
}
