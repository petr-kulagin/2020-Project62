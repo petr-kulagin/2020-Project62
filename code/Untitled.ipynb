{
 "cells": [
  {
   "cell_type": "code",
   "execution_count": 1,
   "metadata": {},
   "outputs": [],
   "source": [
    "import pandas as pd\n",
    "import dtaidistance.dtw_ndim\n",
    "from sklearn.neighbors import KNeighborsClassifier\n",
    "from sklearn.metrics import accuracy_score\n",
    "from sklearn.model_selection import train_test_split\n",
    "import dtaidistance\n",
    "from dtaidistance import dtw_ndim\n",
    "from dtaidistance import dtw_visualisation\n",
    "from dtaidistance import dtw_ndim_visualisation\n",
    "import numpy as np\n",
    "import matplotlib.pyplot as plt\n",
    "import time\n",
    "from random import randint\n",
    "from tqdm import tqdm_notebook\n",
    "%matplotlib inline"
   ]
  },
  {
   "cell_type": "code",
   "execution_count": 2,
   "metadata": {},
   "outputs": [],
   "source": [
    "def MDTW_L2_dist(v1, v2, window=None):\n",
    "    return dtaidistance.dtw_ndim.distance(v1, v2, window=window)\n",
    "\n",
    "def MDTW_L2_path(matr):\n",
    "    return dtaidistance.dtw.best_path(matr)\n",
    "\n",
    "def MDTW_L2_matr(v1, v2):\n",
    "    return dtaidistance.dtw_ndim.warping_paths(v1, v2)\n",
    "\n",
    "def MDTW_L2_visualisation(v1, v2, path):\n",
    "    # another way to visualise\n",
    "    # dtaidistance.dtw_ndim_visualisation.plot_warping(v1, v2, path)\n",
    "    for i in range(v1.shape[1]):\n",
    "        dtaidistance.dtw_visualisation.plot_warping(v1[:, i], v2[:, i], path)\n",
    "        \n",
    "#def prepare_data(data):\n",
    "#    return data.reshape(data.shape[0], data.shape[1] * data.shape[2])\n",
    "\n",
    "#def MDTW_L2_dist_1d(v1, v2):\n",
    "#    return data.reshape()"
   ]
  },
  {
   "cell_type": "code",
   "execution_count": 3,
   "metadata": {},
   "outputs": [],
   "source": [
    "def MDTW_DTW_dist(v1, v2, metric=dtaidistance.dtw.distance, window=None):\n",
    "    n = len(v1)\n",
    "    m = len(v2)\n",
    "    dp = np.zeros((n + 1, m + 1))\n",
    "    dp[0][0] = 0\n",
    "    for i in range(1, n + 1):\n",
    "        dp[i][0] = np.inf\n",
    "    for i in range(1, m + 1):\n",
    "        dp[0][i] = np.inf\n",
    "    for i in range(1, n + 1):\n",
    "        for j in range(1, m + 1):\n",
    "            if window is None or abs(i - j) < window:\n",
    "                dp[i][j] = metric(v1[i - 1], v2[j - 1]) ** 2 + min(dp[i - 1][j], dp[i][j - 1], dp[i - 1][j - 1])\n",
    "            elif abs(i - j) == window:\n",
    "                if i - j == window:\n",
    "                    dp[i][j] = metric(v1[i - 1], v2[j - 1]) ** 2 + min(dp[i - 1][j], dp[i - 1][j - 1])\n",
    "                else:\n",
    "                    dp[i][j] = metric(v1[i - 1], v2[j - 1]) ** 2 + min(dp[i][j - 1], dp[i - 1][j - 1])\n",
    "            else:\n",
    "                dp[i][j] = np.inf\n",
    "                \n",
    "    return dp[n][m] ** 0.5"
   ]
  },
  {
   "cell_type": "code",
   "execution_count": 4,
   "metadata": {},
   "outputs": [],
   "source": [
    "def MDTW_DTW_matr(v1, v2, metric=dtaidistance.dtw.distance, window=None):\n",
    "    n = len(v1)\n",
    "    m = len(v2)\n",
    "    dp = np.zeros((n + 1, m + 1))\n",
    "    dp[0][0] = 0\n",
    "    for i in range(1, n + 1):\n",
    "        dp[i][0] = np.inf\n",
    "    for i in range(1, m + 1):\n",
    "        dp[0][i] = np.inf\n",
    "    for i in range(1, n + 1):\n",
    "        for j in range(1, m + 1):\n",
    "            if window is None or abs(i - j) < window:\n",
    "                dp[i][j] = metric(v1[i - 1], v2[j - 1]) ** 2 + min(dp[i - 1][j], dp[i][j - 1], dp[i - 1][j - 1])\n",
    "            elif abs(i - j) == window:\n",
    "                if i - j == window:\n",
    "                    dp[i][j] = metric(v1[i - 1], v2[j - 1]) ** 2 + min(dp[i - 1][j], dp[i - 1][j - 1])\n",
    "                else:\n",
    "                    dp[i][j] = metric(v1[i - 1], v2[j - 1]) ** 2 + min(dp[i][j - 1], dp[i - 1][j - 1])\n",
    "            else:\n",
    "                dp[i][j] = np.inf\n",
    "    return dp ** 0.5\n",
    "   \n",
    "    \n",
    "def MDTW_DTW_path(v1, v2, matr):\n",
    "    time_path = dtaidistance.dtw.best_path(matr)\n",
    "    signal_path = []\n",
    "    for el in time_path:\n",
    "        matr = MDTW_L2_matr(v1[el[0]], v2[el[1]])[1]\n",
    "        signal_path.append(dtaidistance.dtw.best_path(matr))\n",
    "    return (time_path, signal_path)\n",
    "\n",
    "\n",
    "def MDTW_DTW_visualisation(v1, v2, path):\n",
    "    time_path, signal_path = path\n",
    "    for i in range(len(time_path)):\n",
    "        print('1 time series signal ' + str(time_path[i][0]) + '\\n' +\n",
    "                  '2 time series signal ' + str(time_path[i][1]))\n",
    "        dtaidistance.dtw_visualisation.plot_warping(v1[time_path[i][0]], v2[time_path[i][1]], signal_path[i])\n",
    "        plt.show()"
   ]
  },
  {
   "cell_type": "code",
   "execution_count": 5,
   "metadata": {},
   "outputs": [],
   "source": [
    "def prepare_data(data):\n",
    "    return data.reshape(data.shape[0], data.shape[1] * data.shape[2])\n",
    "\n",
    "    \n",
    "def prepared_L2(left, right):\n",
    "    #print(left.shape, right.shape)\n",
    "    return MDTW_L2_dist(left.reshape(dim, left.shape[0] // dim),\n",
    "                        right.reshape(dim, right.shape[0] // dim))\n",
    "\n",
    "\n",
    "def prepared_DTW(left, right):\n",
    "    return MDTW_DTW_dist(left.reshape(dim, left.shape[0] // dim),\n",
    "                        right.reshape(dim, right.shape[0] // dim))"
   ]
  },
  {
   "cell_type": "code",
   "execution_count": 22,
   "metadata": {},
   "outputs": [],
   "source": [
    "class Experiment:\n",
    "    def __init__(self, data, labels, eps=1e-9):\n",
    "        self.data = data\n",
    "        self.labels = labels\n",
    "        self.eps = 1e-9\n",
    "    \n",
    "    def calc_dist_experiment(self, idx1, idx2):\n",
    "        print(idx1, idx2, MDTW_L2_dist(self.data[idx1], self.data[idx2]) ** 2)\n",
    "        print(idx1, idx2, MDTW_DTW_dist(self.data[idx1], self.data[idx2]) ** 2)\n",
    "        \n",
    "    def description_dist(self):\n",
    "        equals = 0\n",
    "        less = 0\n",
    "        greater = 0\n",
    "        max_diff = 0\n",
    "        mean_diff = 0\n",
    "        max_idx1 = 0\n",
    "        max_idx2 = 0\n",
    "        for idx1 in tqdm_notebook(range(len(self.data))):\n",
    "            for idx2 in tqdm_notebook(range(len(self.data))):\n",
    "                dst1 = MDTW_L2_dist(self.data[idx1], self.data[idx2])\n",
    "                dst2 = MDTW_DTW_dist(self.data[idx1], self.data[idx2])\n",
    "                if dst1 == dst2 or abs(dst1 - dst2) < self.eps:\n",
    "                    equals += 1\n",
    "                elif dst1 < dst2:\n",
    "                    less += 1\n",
    "                else:\n",
    "                    greater += 1\n",
    "                if dst1 - dst2 > max_diff:\n",
    "                    max_diff = dst1 - dst2\n",
    "                    max_idx1 = idx1\n",
    "                    max_idx2 = idx2\n",
    "                mean_diff += dst1 - dst2\n",
    "        mean_diff /= len(data) * len(data)\n",
    "        print('Calculate distance experiment results:')\n",
    "        print('L2 = DTW', equals)\n",
    "        print('L2 < DTW', less)\n",
    "        print('L2 > DTW', greater)\n",
    "        print('Maximum difference between L2 and DTW:', max_diff)\n",
    "        print('Indexes of maximum difference:', max_idx1, max_idx2)\n",
    "        print('Mean value of difference:', mean_diff)\n",
    "        \n",
    "    def time_experiment(self, iter_count=100, cnt_signals=None, info=True):\n",
    "        if cnt_signals is None:\n",
    "            cnt_signals = self.data.shape[1]\n",
    "        L2_time = {'min': np.inf, 'max': 0, 'mean': 0}\n",
    "        DTW_time = {'min': np.inf, 'max': 0, 'mean': 0}\n",
    "        for i in range(iter_count):\n",
    "            idx1 = randint(0, len(self.data) - 1)\n",
    "            idx2 = randint(0, len(self.data) - 1)\n",
    "            begin = time.time()\n",
    "            MDTW_L2_dist(self.data[idx1][:cnt_signals], self.data[idx2][:cnt_signals])\n",
    "            end = time.time()\n",
    "            L2_time['min'] = min(L2_time['min'], end - begin)\n",
    "            L2_time['max'] = max(L2_time['max'], end - begin)\n",
    "            L2_time['mean'] += (end - begin) / iter_count\n",
    "            \n",
    "            begin = time.time()\n",
    "            MDTW_DTW_dist(self.data[idx1][:cnt_signals], self.data[idx2][:cnt_signals])\n",
    "            end = time.time()\n",
    "            DTW_time['min'] = min(DTW_time['min'], end - begin)\n",
    "            DTW_time['max'] = max(DTW_time['max'], end - begin)\n",
    "            DTW_time['mean'] += (end - begin) / iter_count\n",
    "            \n",
    "        if info:\n",
    "            print('L2 time result:')\n",
    "            print('min:', L2_time['min'])\n",
    "            print('max:', L2_time['max'])\n",
    "            print('mean:', L2_time['mean'])\n",
    "        \n",
    "            print('DTW time result:')\n",
    "            print('min:', DTW_time['min'])\n",
    "            print('max:', DTW_time['max'])\n",
    "            print('mean:', DTW_time['mean'])\n",
    "        return (L2_time, DTW_time)\n",
    "    \n",
    "    #def _prepare_data(self, data):\n",
    "    #    return data.reshape(data.shape[0], data.shape[1] * data.shape[2])\n",
    "    \n",
    "    #def _prepared_L2(self, prepared_data):\n",
    "    #    data = prepared_data.reshape(self.data.shape[0], self.data.shape[1], self.data.shape[2])\n",
    "        \n",
    "    \n",
    "            \n",
    "    def KNeighbourClassifier_test(self, window=None):\n",
    "        data = prepare_data(self.data)\n",
    "        \n",
    "        self.X_train, self.X_test, self.y_train, self.y_test = train_test_split(data, self.labels,\n",
    "                                                                                   test_size=0.3)\n",
    "        print(data, self.labels)\n",
    "        print(self.X_train, self.X_test, self.y_train, self.y_test)\n",
    "        \n",
    "        model_L2 = KNeighborsClassifier(n_neighbors=1, metric=prepared_L2)\n",
    "        model_L2.fit(self.X_train, self.y_train)\n",
    "        predicted_L2 = model_L2.predict(self.X_test)\n",
    "        accuracy_L2 = accuracy_score(self.y_test, predicted_L2)\n",
    "            \n",
    "        model_DTW = KNeighborsClassifier(n_neighbors=1, metric=prepared_DTW)\n",
    "        model_DTW.fit(self.X_train, self.y_train)\n",
    "        predicted_DTW = model_DTW.predict(self.X_test)\n",
    "        accuracy_DTW = accuracy_score(self.y_test, predicted_DTW)\n",
    "        \n",
    "        print(predicted_L2)\n",
    "        print(predicted_DTW)\n",
    "        print(accuracy_L2, accuracy_DTW)\n",
    "        \n",
    "            \n",
    "        return (accuracy_L2, accuracy_DTW)"
   ]
  },
  {
   "cell_type": "code",
   "execution_count": 23,
   "metadata": {},
   "outputs": [],
   "source": [
    "ecog = pd.read_csv('../data/ECoG.csv', sep=',')"
   ]
  },
  {
   "cell_type": "code",
   "execution_count": 24,
   "metadata": {
    "scrolled": true
   },
   "outputs": [
    {
     "data": {
      "text/html": [
       "<div>\n",
       "<style scoped>\n",
       "    .dataframe tbody tr th:only-of-type {\n",
       "        vertical-align: middle;\n",
       "    }\n",
       "\n",
       "    .dataframe tbody tr th {\n",
       "        vertical-align: top;\n",
       "    }\n",
       "\n",
       "    .dataframe thead th {\n",
       "        text-align: right;\n",
       "    }\n",
       "</style>\n",
       "<table border=\"1\" class=\"dataframe\">\n",
       "  <thead>\n",
       "    <tr style=\"text-align: right;\">\n",
       "      <th></th>\n",
       "      <th>ECoG_time</th>\n",
       "      <th>ECoG_ch1</th>\n",
       "      <th>ECoG_ch2</th>\n",
       "      <th>ECoG_ch3</th>\n",
       "      <th>ECoG_ch4</th>\n",
       "      <th>ECoG_ch5</th>\n",
       "      <th>ECoG_ch6</th>\n",
       "      <th>ECoG_ch7</th>\n",
       "      <th>ECoG_ch8</th>\n",
       "      <th>ECoG_ch9</th>\n",
       "      <th>...</th>\n",
       "      <th>ECoG_ch119</th>\n",
       "      <th>ECoG_ch120</th>\n",
       "      <th>ECoG_ch121</th>\n",
       "      <th>ECoG_ch122</th>\n",
       "      <th>ECoG_ch123</th>\n",
       "      <th>ECoG_ch124</th>\n",
       "      <th>ECoG_ch125</th>\n",
       "      <th>ECoG_ch126</th>\n",
       "      <th>ECoG_ch127</th>\n",
       "      <th>ECoG_ch128</th>\n",
       "    </tr>\n",
       "  </thead>\n",
       "  <tbody>\n",
       "    <tr>\n",
       "      <th>0</th>\n",
       "      <td>0.000</td>\n",
       "      <td>48</td>\n",
       "      <td>-60</td>\n",
       "      <td>-174</td>\n",
       "      <td>-226</td>\n",
       "      <td>-123</td>\n",
       "      <td>-308</td>\n",
       "      <td>94</td>\n",
       "      <td>75</td>\n",
       "      <td>-40</td>\n",
       "      <td>...</td>\n",
       "      <td>-57</td>\n",
       "      <td>174</td>\n",
       "      <td>-229</td>\n",
       "      <td>-84</td>\n",
       "      <td>-40</td>\n",
       "      <td>-292</td>\n",
       "      <td>-264</td>\n",
       "      <td>-206</td>\n",
       "      <td>-269</td>\n",
       "      <td>-286</td>\n",
       "    </tr>\n",
       "    <tr>\n",
       "      <th>1</th>\n",
       "      <td>0.001</td>\n",
       "      <td>40</td>\n",
       "      <td>-87</td>\n",
       "      <td>-208</td>\n",
       "      <td>-256</td>\n",
       "      <td>-115</td>\n",
       "      <td>-350</td>\n",
       "      <td>86</td>\n",
       "      <td>61</td>\n",
       "      <td>-66</td>\n",
       "      <td>...</td>\n",
       "      <td>-69</td>\n",
       "      <td>170</td>\n",
       "      <td>-229</td>\n",
       "      <td>-101</td>\n",
       "      <td>-42</td>\n",
       "      <td>-256</td>\n",
       "      <td>-265</td>\n",
       "      <td>-231</td>\n",
       "      <td>-258</td>\n",
       "      <td>-310</td>\n",
       "    </tr>\n",
       "    <tr>\n",
       "      <th>2</th>\n",
       "      <td>0.002</td>\n",
       "      <td>46</td>\n",
       "      <td>-113</td>\n",
       "      <td>-210</td>\n",
       "      <td>-248</td>\n",
       "      <td>-124</td>\n",
       "      <td>-365</td>\n",
       "      <td>97</td>\n",
       "      <td>68</td>\n",
       "      <td>-96</td>\n",
       "      <td>...</td>\n",
       "      <td>-85</td>\n",
       "      <td>139</td>\n",
       "      <td>-213</td>\n",
       "      <td>-102</td>\n",
       "      <td>-11</td>\n",
       "      <td>-230</td>\n",
       "      <td>-248</td>\n",
       "      <td>-230</td>\n",
       "      <td>-217</td>\n",
       "      <td>-301</td>\n",
       "    </tr>\n",
       "    <tr>\n",
       "      <th>3</th>\n",
       "      <td>0.003</td>\n",
       "      <td>78</td>\n",
       "      <td>-112</td>\n",
       "      <td>-181</td>\n",
       "      <td>-220</td>\n",
       "      <td>-116</td>\n",
       "      <td>-368</td>\n",
       "      <td>115</td>\n",
       "      <td>104</td>\n",
       "      <td>-90</td>\n",
       "      <td>...</td>\n",
       "      <td>-98</td>\n",
       "      <td>103</td>\n",
       "      <td>-213</td>\n",
       "      <td>-127</td>\n",
       "      <td>11</td>\n",
       "      <td>-254</td>\n",
       "      <td>-253</td>\n",
       "      <td>-224</td>\n",
       "      <td>-210</td>\n",
       "      <td>-299</td>\n",
       "    </tr>\n",
       "    <tr>\n",
       "      <th>4</th>\n",
       "      <td>0.004</td>\n",
       "      <td>109</td>\n",
       "      <td>-115</td>\n",
       "      <td>-178</td>\n",
       "      <td>-216</td>\n",
       "      <td>-128</td>\n",
       "      <td>-342</td>\n",
       "      <td>111</td>\n",
       "      <td>123</td>\n",
       "      <td>-90</td>\n",
       "      <td>...</td>\n",
       "      <td>-117</td>\n",
       "      <td>70</td>\n",
       "      <td>-218</td>\n",
       "      <td>-152</td>\n",
       "      <td>30</td>\n",
       "      <td>-249</td>\n",
       "      <td>-238</td>\n",
       "      <td>-217</td>\n",
       "      <td>-243</td>\n",
       "      <td>-274</td>\n",
       "    </tr>\n",
       "  </tbody>\n",
       "</table>\n",
       "<p>5 rows × 129 columns</p>\n",
       "</div>"
      ],
      "text/plain": [
       "   ECoG_time  ECoG_ch1  ECoG_ch2  ECoG_ch3  ECoG_ch4  ECoG_ch5  ECoG_ch6  \\\n",
       "0      0.000        48       -60      -174      -226      -123      -308   \n",
       "1      0.001        40       -87      -208      -256      -115      -350   \n",
       "2      0.002        46      -113      -210      -248      -124      -365   \n",
       "3      0.003        78      -112      -181      -220      -116      -368   \n",
       "4      0.004       109      -115      -178      -216      -128      -342   \n",
       "\n",
       "   ECoG_ch7  ECoG_ch8  ECoG_ch9  ...  ECoG_ch119  ECoG_ch120  ECoG_ch121  \\\n",
       "0        94        75       -40  ...         -57         174        -229   \n",
       "1        86        61       -66  ...         -69         170        -229   \n",
       "2        97        68       -96  ...         -85         139        -213   \n",
       "3       115       104       -90  ...         -98         103        -213   \n",
       "4       111       123       -90  ...        -117          70        -218   \n",
       "\n",
       "   ECoG_ch122  ECoG_ch123  ECoG_ch124  ECoG_ch125  ECoG_ch126  ECoG_ch127  \\\n",
       "0         -84         -40        -292        -264        -206        -269   \n",
       "1        -101         -42        -256        -265        -231        -258   \n",
       "2        -102         -11        -230        -248        -230        -217   \n",
       "3        -127          11        -254        -253        -224        -210   \n",
       "4        -152          30        -249        -238        -217        -243   \n",
       "\n",
       "   ECoG_ch128  \n",
       "0        -286  \n",
       "1        -310  \n",
       "2        -301  \n",
       "3        -299  \n",
       "4        -274  \n",
       "\n",
       "[5 rows x 129 columns]"
      ]
     },
     "execution_count": 24,
     "metadata": {},
     "output_type": "execute_result"
    }
   ],
   "source": [
    "ecog.head()"
   ]
  },
  {
   "cell_type": "code",
   "execution_count": 25,
   "metadata": {},
   "outputs": [
    {
     "data": {
      "text/html": [
       "<div>\n",
       "<style scoped>\n",
       "    .dataframe tbody tr th:only-of-type {\n",
       "        vertical-align: middle;\n",
       "    }\n",
       "\n",
       "    .dataframe tbody tr th {\n",
       "        vertical-align: top;\n",
       "    }\n",
       "\n",
       "    .dataframe thead th {\n",
       "        text-align: right;\n",
       "    }\n",
       "</style>\n",
       "<table border=\"1\" class=\"dataframe\">\n",
       "  <thead>\n",
       "    <tr style=\"text-align: right;\">\n",
       "      <th></th>\n",
       "      <th>ECoG_time</th>\n",
       "      <th>ECoG_ch1</th>\n",
       "      <th>ECoG_ch2</th>\n",
       "      <th>ECoG_ch3</th>\n",
       "      <th>ECoG_ch4</th>\n",
       "      <th>ECoG_ch5</th>\n",
       "      <th>ECoG_ch6</th>\n",
       "      <th>ECoG_ch7</th>\n",
       "      <th>ECoG_ch8</th>\n",
       "      <th>ECoG_ch9</th>\n",
       "      <th>...</th>\n",
       "      <th>ECoG_ch119</th>\n",
       "      <th>ECoG_ch120</th>\n",
       "      <th>ECoG_ch121</th>\n",
       "      <th>ECoG_ch122</th>\n",
       "      <th>ECoG_ch123</th>\n",
       "      <th>ECoG_ch124</th>\n",
       "      <th>ECoG_ch125</th>\n",
       "      <th>ECoG_ch126</th>\n",
       "      <th>ECoG_ch127</th>\n",
       "      <th>ECoG_ch128</th>\n",
       "    </tr>\n",
       "  </thead>\n",
       "  <tbody>\n",
       "    <tr>\n",
       "      <th>663265</th>\n",
       "      <td>663.265</td>\n",
       "      <td>44</td>\n",
       "      <td>47</td>\n",
       "      <td>-41</td>\n",
       "      <td>-111</td>\n",
       "      <td>29</td>\n",
       "      <td>121</td>\n",
       "      <td>316</td>\n",
       "      <td>-828</td>\n",
       "      <td>116</td>\n",
       "      <td>...</td>\n",
       "      <td>240</td>\n",
       "      <td>156</td>\n",
       "      <td>-148</td>\n",
       "      <td>-360</td>\n",
       "      <td>-156</td>\n",
       "      <td>-215</td>\n",
       "      <td>67</td>\n",
       "      <td>-142</td>\n",
       "      <td>-2</td>\n",
       "      <td>-310</td>\n",
       "    </tr>\n",
       "    <tr>\n",
       "      <th>663266</th>\n",
       "      <td>663.266</td>\n",
       "      <td>78</td>\n",
       "      <td>46</td>\n",
       "      <td>-60</td>\n",
       "      <td>-60</td>\n",
       "      <td>50</td>\n",
       "      <td>140</td>\n",
       "      <td>345</td>\n",
       "      <td>-814</td>\n",
       "      <td>121</td>\n",
       "      <td>...</td>\n",
       "      <td>249</td>\n",
       "      <td>170</td>\n",
       "      <td>-141</td>\n",
       "      <td>-364</td>\n",
       "      <td>-142</td>\n",
       "      <td>-197</td>\n",
       "      <td>38</td>\n",
       "      <td>-132</td>\n",
       "      <td>-3</td>\n",
       "      <td>-373</td>\n",
       "    </tr>\n",
       "    <tr>\n",
       "      <th>663267</th>\n",
       "      <td>663.267</td>\n",
       "      <td>67</td>\n",
       "      <td>-1</td>\n",
       "      <td>-103</td>\n",
       "      <td>-29</td>\n",
       "      <td>122</td>\n",
       "      <td>188</td>\n",
       "      <td>375</td>\n",
       "      <td>-774</td>\n",
       "      <td>122</td>\n",
       "      <td>...</td>\n",
       "      <td>249</td>\n",
       "      <td>182</td>\n",
       "      <td>-155</td>\n",
       "      <td>-367</td>\n",
       "      <td>-135</td>\n",
       "      <td>-185</td>\n",
       "      <td>46</td>\n",
       "      <td>-113</td>\n",
       "      <td>-20</td>\n",
       "      <td>-395</td>\n",
       "    </tr>\n",
       "    <tr>\n",
       "      <th>663268</th>\n",
       "      <td>663.268</td>\n",
       "      <td>93</td>\n",
       "      <td>-34</td>\n",
       "      <td>-163</td>\n",
       "      <td>-62</td>\n",
       "      <td>186</td>\n",
       "      <td>261</td>\n",
       "      <td>426</td>\n",
       "      <td>-737</td>\n",
       "      <td>135</td>\n",
       "      <td>...</td>\n",
       "      <td>244</td>\n",
       "      <td>176</td>\n",
       "      <td>-175</td>\n",
       "      <td>-387</td>\n",
       "      <td>-145</td>\n",
       "      <td>-205</td>\n",
       "      <td>16</td>\n",
       "      <td>-132</td>\n",
       "      <td>-41</td>\n",
       "      <td>-438</td>\n",
       "    </tr>\n",
       "    <tr>\n",
       "      <th>663269</th>\n",
       "      <td>663.269</td>\n",
       "      <td>158</td>\n",
       "      <td>1</td>\n",
       "      <td>-142</td>\n",
       "      <td>-35</td>\n",
       "      <td>228</td>\n",
       "      <td>311</td>\n",
       "      <td>462</td>\n",
       "      <td>-709</td>\n",
       "      <td>165</td>\n",
       "      <td>...</td>\n",
       "      <td>232</td>\n",
       "      <td>166</td>\n",
       "      <td>-192</td>\n",
       "      <td>-372</td>\n",
       "      <td>-168</td>\n",
       "      <td>-239</td>\n",
       "      <td>-18</td>\n",
       "      <td>-199</td>\n",
       "      <td>-146</td>\n",
       "      <td>-495</td>\n",
       "    </tr>\n",
       "  </tbody>\n",
       "</table>\n",
       "<p>5 rows × 129 columns</p>\n",
       "</div>"
      ],
      "text/plain": [
       "        ECoG_time  ECoG_ch1  ECoG_ch2  ECoG_ch3  ECoG_ch4  ECoG_ch5  ECoG_ch6  \\\n",
       "663265    663.265        44        47       -41      -111        29       121   \n",
       "663266    663.266        78        46       -60       -60        50       140   \n",
       "663267    663.267        67        -1      -103       -29       122       188   \n",
       "663268    663.268        93       -34      -163       -62       186       261   \n",
       "663269    663.269       158         1      -142       -35       228       311   \n",
       "\n",
       "        ECoG_ch7  ECoG_ch8  ECoG_ch9  ...  ECoG_ch119  ECoG_ch120  ECoG_ch121  \\\n",
       "663265       316      -828       116  ...         240         156        -148   \n",
       "663266       345      -814       121  ...         249         170        -141   \n",
       "663267       375      -774       122  ...         249         182        -155   \n",
       "663268       426      -737       135  ...         244         176        -175   \n",
       "663269       462      -709       165  ...         232         166        -192   \n",
       "\n",
       "        ECoG_ch122  ECoG_ch123  ECoG_ch124  ECoG_ch125  ECoG_ch126  \\\n",
       "663265        -360        -156        -215          67        -142   \n",
       "663266        -364        -142        -197          38        -132   \n",
       "663267        -367        -135        -185          46        -113   \n",
       "663268        -387        -145        -205          16        -132   \n",
       "663269        -372        -168        -239         -18        -199   \n",
       "\n",
       "        ECoG_ch127  ECoG_ch128  \n",
       "663265          -2        -310  \n",
       "663266          -3        -373  \n",
       "663267         -20        -395  \n",
       "663268         -41        -438  \n",
       "663269        -146        -495  \n",
       "\n",
       "[5 rows x 129 columns]"
      ]
     },
     "execution_count": 25,
     "metadata": {},
     "output_type": "execute_result"
    }
   ],
   "source": [
    "ecog.tail()"
   ]
  },
  {
   "cell_type": "code",
   "execution_count": 26,
   "metadata": {},
   "outputs": [
    {
     "name": "stdout",
     "output_type": "stream",
     "text": [
      "(663270, 129)\n"
     ]
    }
   ],
   "source": [
    "print(ecog.shape)"
   ]
  },
  {
   "cell_type": "code",
   "execution_count": 27,
   "metadata": {},
   "outputs": [],
   "source": [
    "event = pd.read_csv('../data/Event.csv', sep=',')"
   ]
  },
  {
   "cell_type": "code",
   "execution_count": 28,
   "metadata": {},
   "outputs": [
    {
     "data": {
      "text/html": [
       "<div>\n",
       "<style scoped>\n",
       "    .dataframe tbody tr th:only-of-type {\n",
       "        vertical-align: middle;\n",
       "    }\n",
       "\n",
       "    .dataframe tbody tr th {\n",
       "        vertical-align: top;\n",
       "    }\n",
       "\n",
       "    .dataframe thead th {\n",
       "        text-align: right;\n",
       "    }\n",
       "</style>\n",
       "<table border=\"1\" class=\"dataframe\">\n",
       "  <thead>\n",
       "    <tr style=\"text-align: right;\">\n",
       "      <th></th>\n",
       "      <th>EventTime</th>\n",
       "      <th>EventData</th>\n",
       "      <th>EventIndex</th>\n",
       "    </tr>\n",
       "  </thead>\n",
       "  <tbody>\n",
       "    <tr>\n",
       "      <th>0</th>\n",
       "      <td>0.000</td>\n",
       "      <td>35</td>\n",
       "      <td>0</td>\n",
       "    </tr>\n",
       "    <tr>\n",
       "      <th>1</th>\n",
       "      <td>0.001</td>\n",
       "      <td>40</td>\n",
       "      <td>1</td>\n",
       "    </tr>\n",
       "    <tr>\n",
       "      <th>2</th>\n",
       "      <td>0.002</td>\n",
       "      <td>36</td>\n",
       "      <td>2</td>\n",
       "    </tr>\n",
       "    <tr>\n",
       "      <th>3</th>\n",
       "      <td>0.003</td>\n",
       "      <td>34</td>\n",
       "      <td>3</td>\n",
       "    </tr>\n",
       "    <tr>\n",
       "      <th>4</th>\n",
       "      <td>0.004</td>\n",
       "      <td>35</td>\n",
       "      <td>4</td>\n",
       "    </tr>\n",
       "  </tbody>\n",
       "</table>\n",
       "</div>"
      ],
      "text/plain": [
       "   EventTime  EventData  EventIndex\n",
       "0      0.000         35           0\n",
       "1      0.001         40           1\n",
       "2      0.002         36           2\n",
       "3      0.003         34           3\n",
       "4      0.004         35           4"
      ]
     },
     "execution_count": 28,
     "metadata": {},
     "output_type": "execute_result"
    }
   ],
   "source": [
    "event.head()"
   ]
  },
  {
   "cell_type": "code",
   "execution_count": 29,
   "metadata": {},
   "outputs": [
    {
     "name": "stdout",
     "output_type": "stream",
     "text": [
      "(663270, 3)\n"
     ]
    }
   ],
   "source": [
    "print(event.shape)"
   ]
  },
  {
   "cell_type": "code",
   "execution_count": 30,
   "metadata": {},
   "outputs": [],
   "source": [
    "prepared = event.EventData <= 100\n",
    "iti = event[event.EventData.between(300, 400, inclusive=True)] #0\n",
    "stimulus1 = event[event.EventData.between(650, 750, inclusive=True)] #45\n",
    "stimulus2 = event[event.EventData.between(950, 1050, inclusive=True)] #90\n",
    "stimulus3 = event[event.EventData.between(1300, 1400, inclusive=True)] #135\n",
    "stimulus4 = event[event.EventData.between(1600, 1700, inclusive=True)] #180\n",
    "stimulus5 = event[event.EventData.between(1950, 2050, inclusive=True)] #225\n",
    "stimulus6 = event[event.EventData.between(2250, 2350, inclusive=True)] #270\n",
    "stimulus7 = event[event.EventData.between(2600, 2700, inclusive=True)] #315\n",
    "stimulus8 = event[event.EventData.between(2900, 3000, inclusive=True)] #360"
   ]
  },
  {
   "cell_type": "code",
   "execution_count": 31,
   "metadata": {},
   "outputs": [
    {
     "data": {
      "text/html": [
       "<div>\n",
       "<style scoped>\n",
       "    .dataframe tbody tr th:only-of-type {\n",
       "        vertical-align: middle;\n",
       "    }\n",
       "\n",
       "    .dataframe tbody tr th {\n",
       "        vertical-align: top;\n",
       "    }\n",
       "\n",
       "    .dataframe thead th {\n",
       "        text-align: right;\n",
       "    }\n",
       "</style>\n",
       "<table border=\"1\" class=\"dataframe\">\n",
       "  <thead>\n",
       "    <tr style=\"text-align: right;\">\n",
       "      <th></th>\n",
       "      <th>EventTime</th>\n",
       "      <th>EventData</th>\n",
       "      <th>EventIndex</th>\n",
       "    </tr>\n",
       "  </thead>\n",
       "  <tbody>\n",
       "    <tr>\n",
       "      <th>82015</th>\n",
       "      <td>82.015</td>\n",
       "      <td>686</td>\n",
       "      <td>82015</td>\n",
       "    </tr>\n",
       "    <tr>\n",
       "      <th>82016</th>\n",
       "      <td>82.016</td>\n",
       "      <td>692</td>\n",
       "      <td>82016</td>\n",
       "    </tr>\n",
       "    <tr>\n",
       "      <th>82017</th>\n",
       "      <td>82.017</td>\n",
       "      <td>684</td>\n",
       "      <td>82017</td>\n",
       "    </tr>\n",
       "    <tr>\n",
       "      <th>82018</th>\n",
       "      <td>82.018</td>\n",
       "      <td>685</td>\n",
       "      <td>82018</td>\n",
       "    </tr>\n",
       "    <tr>\n",
       "      <th>82019</th>\n",
       "      <td>82.019</td>\n",
       "      <td>691</td>\n",
       "      <td>82019</td>\n",
       "    </tr>\n",
       "    <tr>\n",
       "      <th>...</th>\n",
       "      <td>...</td>\n",
       "      <td>...</td>\n",
       "      <td>...</td>\n",
       "    </tr>\n",
       "    <tr>\n",
       "      <th>645255</th>\n",
       "      <td>645.255</td>\n",
       "      <td>691</td>\n",
       "      <td>645255</td>\n",
       "    </tr>\n",
       "    <tr>\n",
       "      <th>645256</th>\n",
       "      <td>645.256</td>\n",
       "      <td>688</td>\n",
       "      <td>645256</td>\n",
       "    </tr>\n",
       "    <tr>\n",
       "      <th>645257</th>\n",
       "      <td>645.257</td>\n",
       "      <td>687</td>\n",
       "      <td>645257</td>\n",
       "    </tr>\n",
       "    <tr>\n",
       "      <th>645258</th>\n",
       "      <td>645.258</td>\n",
       "      <td>686</td>\n",
       "      <td>645258</td>\n",
       "    </tr>\n",
       "    <tr>\n",
       "      <th>645259</th>\n",
       "      <td>645.259</td>\n",
       "      <td>689</td>\n",
       "      <td>645259</td>\n",
       "    </tr>\n",
       "  </tbody>\n",
       "</table>\n",
       "<p>40072 rows × 3 columns</p>\n",
       "</div>"
      ],
      "text/plain": [
       "        EventTime  EventData  EventIndex\n",
       "82015      82.015        686       82015\n",
       "82016      82.016        692       82016\n",
       "82017      82.017        684       82017\n",
       "82018      82.018        685       82018\n",
       "82019      82.019        691       82019\n",
       "...           ...        ...         ...\n",
       "645255    645.255        691      645255\n",
       "645256    645.256        688      645256\n",
       "645257    645.257        687      645257\n",
       "645258    645.258        686      645258\n",
       "645259    645.259        689      645259\n",
       "\n",
       "[40072 rows x 3 columns]"
      ]
     },
     "execution_count": 31,
     "metadata": {},
     "output_type": "execute_result"
    }
   ],
   "source": [
    "stimulus1"
   ]
  },
  {
   "cell_type": "markdown",
   "metadata": {},
   "source": [
    "[   0- 100] : preparation time before experiment\n",
    "      [ 300- 400] : ITI\n",
    "      [ 650- 750] : Stimulus 1 ( 45 degree)\n",
    "      [ 950-1050] : Stimulus 2 ( 90 degree)\n",
    "      [1300-1400] : Stimulus 3 (135 degree)\n",
    "      [1600-1700] : Stimulus 4 (180 degree)\n",
    "      [1950-2050] : Stimulus 5 (225 degree)\n",
    "      [2250-2350] : Stimulus 6 (270 degree)\n",
    "      [2600-2700] : Stimulus 7 (315 degree)\n",
    "      [2900-3000] : Stimulus 8 (360 degree)"
   ]
  },
  {
   "cell_type": "code",
   "execution_count": 32,
   "metadata": {},
   "outputs": [],
   "source": [
    "ts1 = ecog.iloc[stimulus1.EventIndex].to_numpy()[:, 1:]\n",
    "ts2 = ecog.iloc[stimulus2.EventIndex].to_numpy()[:, 1:]\n",
    "ts3 = ecog.iloc[stimulus3.EventIndex].to_numpy()[:, 1:]\n",
    "ts4 = ecog.iloc[stimulus4.EventIndex].to_numpy()[:, 1:]\n",
    "ts5 = ecog.iloc[stimulus5.EventIndex].to_numpy()[:, 1:]\n",
    "ts6 = ecog.iloc[stimulus6.EventIndex].to_numpy()[:, 1:]\n",
    "ts7 = ecog.iloc[stimulus7.EventIndex].to_numpy()[:, 1:]\n",
    "ts8 = ecog.iloc[stimulus8.EventIndex].to_numpy()[:, 1:]"
   ]
  },
  {
   "cell_type": "code",
   "execution_count": 33,
   "metadata": {},
   "outputs": [
    {
     "name": "stdout",
     "output_type": "stream",
     "text": [
      "(40072, 128) (40119, 128)\n"
     ]
    }
   ],
   "source": [
    "print(ts1.shape, ts2.shape)"
   ]
  },
  {
   "cell_type": "code",
   "execution_count": 34,
   "metadata": {},
   "outputs": [
    {
     "name": "stdout",
     "output_type": "stream",
     "text": [
      "[[ -36.  188.  324. ...  326.  -38.   23.]\n",
      " [ -38.  192.  314. ...  318.   -6.   83.]\n",
      " [ -48.  193.  298. ...  310.    9.  133.]\n",
      " ...\n",
      " [-245.  120.  378. ... -182.   -8.  -91.]\n",
      " [-233.   55.  321. ... -239.  -77. -121.]\n",
      " [-228.   69.  358. ... -234.  -66.  -79.]]\n"
     ]
    }
   ],
   "source": [
    "print(ts1)"
   ]
  },
  {
   "cell_type": "code",
   "execution_count": 35,
   "metadata": {},
   "outputs": [],
   "source": [
    "dim = 10"
   ]
  },
  {
   "cell_type": "code",
   "execution_count": 36,
   "metadata": {},
   "outputs": [],
   "source": [
    "def experiment(data_class1, data_class2, sample_size=30, cnt_signals=30, dim=10):\n",
    "    data_class1 = data_class1[:, :dim]\n",
    "    data_class2 = data_class2[:, :dim]\n",
    "    time_series1 = []\n",
    "    time_series2 = []\n",
    "    \n",
    "    for i in range(sample_size):\n",
    "        time_series1.append(data_class1[i + sample_size * np.arange(cnt_signals)])\n",
    "        time_series2.append(data_class2[i + sample_size * np.arange(cnt_signals)])\n",
    "    time_series1 = np.array(time_series1)\n",
    "    time_series2 = np.array(time_series2)\n",
    "    labels = []\n",
    "    data = []\n",
    "\n",
    "    for i in range(sample_size):\n",
    "        data.append(time_series1[i])\n",
    "        data.append(time_series2[i])\n",
    "        labels.append(0)\n",
    "        labels.append(1)\n",
    "    data = np.array(data)\n",
    "    labels = np.array(labels)\n",
    "        \n",
    "    exp = Experiment(data, labels)\n",
    "    return exp.KNeighbourClassifier_test()"
   ]
  },
  {
   "cell_type": "code",
   "execution_count": 37,
   "metadata": {},
   "outputs": [
    {
     "name": "stdout",
     "output_type": "stream",
     "text": [
      "[[ -36.  188.  324. ...  -18.  -71.  161.]\n",
      " [ -64. -143.   64. ...  -22.  108.  116.]\n",
      " [ -38.  192.  314. ...  -20.  -60.  186.]\n",
      " ...\n",
      " [ 145.  -75. -349. ... -236. -328. -103.]\n",
      " [ -19.   75.  -14. ... -106.   -1.  -31.]\n",
      " [ 209.   20. -272. ... -250. -394. -264.]] [0 1 0 1 0 1 0 1 0 1 0 1 0 1 0 1 0 1 0 1 0 1 0 1 0 1 0 1 0 1 0 1 0 1 0 1 0\n",
      " 1 0 1 0 1 0 1 0 1 0 1 0 1 0 1 0 1 0 1 0 1 0 1]\n",
      "[[ -34. -100.   64. ...  -45.  122.  190.]\n",
      " [  47.  342.  310. ... -174. -413. -196.]\n",
      " [ -71.  233.  298. ...  -99.  -98.  126.]\n",
      " ...\n",
      " [ -48.  291.  265. ... -171. -166.   27.]\n",
      " [-115.   68.  -22. ...   77. -148.   28.]\n",
      " [  38.  308.  281. ... -133. -353. -172.]] [[ -80.  132.   15. ...   39. -196.  -18.]\n",
      " [ 108.  -34.   41. ...  -21.  -26.  287.]\n",
      " [ 114.  -92. -291. ...  -77.  -59.  241.]\n",
      " ...\n",
      " [ -30.  -44.  122. ...  -77.   89.  196.]\n",
      " [  10.  390.  344. ... -250. -380. -137.]\n",
      " [ 130.   11.   24. ... -129. -170.  216.]] [1 0 0 1 0 0 0 0 0 1 0 0 0 1 0 1 0 1 1 0 1 1 0 1 0 1 0 0 1 1 1 1 1 1 1 1 0\n",
      " 0 1 0 0 0] [0 1 1 1 0 0 1 0 1 0 0 1 1 0 1 1 0 1]\n",
      "[0 1 1 1 0 0 1 0 1 0 0 1 1 0 1 1 0 1]\n",
      "[0 1 1 1 0 0 1 0 1 0 0 1 1 0 1 1 0 1]\n",
      "1.0 1.0\n"
     ]
    },
    {
     "data": {
      "text/plain": [
       "(1.0, 1.0)"
      ]
     },
     "execution_count": 37,
     "metadata": {},
     "output_type": "execute_result"
    }
   ],
   "source": [
    "experiment(ts1, ts2)"
   ]
  },
  {
   "cell_type": "code",
   "execution_count": 38,
   "metadata": {},
   "outputs": [
    {
     "name": "stdout",
     "output_type": "stream",
     "text": [
      "[[-3.600e+01  1.880e+02  3.240e+02 ... -1.800e+01 -7.100e+01  1.610e+02]\n",
      " [ 2.410e+02  1.770e+02  1.100e+02 ... -3.199e+03 -1.460e+02 -3.270e+02]\n",
      " [-3.800e+01  1.920e+02  3.140e+02 ... -2.000e+01 -6.000e+01  1.860e+02]\n",
      " ...\n",
      " [ 1.700e+02  3.400e+01 -8.000e+00 ... -2.844e+03  8.500e+01  2.100e+02]\n",
      " [-1.900e+01  7.500e+01 -1.400e+01 ... -1.060e+02 -1.000e+00 -3.100e+01]\n",
      " [ 1.690e+02  6.000e+01 -1.600e+01 ... -2.905e+03  6.700e+01  1.800e+02]] [0 1 0 1 0 1 0 1 0 1 0 1 0 1 0 1 0 1 0 1 0 1 0 1 0 1 0 1 0 1 0 1 0 1 0 1 0\n",
      " 1 0 1 0 1 0 1 0 1 0 1 0 1 0 1 0 1 0 1 0 1 0 1]\n",
      "[[  321.    87.   174. ... -2794.    -7.  -122.]\n",
      " [  378.   148.   252. ... -2736.    72.   -41.]\n",
      " [  148.    13.    -5. ... -2847.    -3.  -174.]\n",
      " ...\n",
      " [  169.    60.   -16. ... -2905.    67.   180.]\n",
      " [  177.    18.     3. ... -2825.   -69.  -211.]\n",
      " [  383.   183.   177. ... -2740.    82.   -15.]] [[  -53.   187.   100. ...    -5.  -229.   -48.]\n",
      " [  -20.   352.   298. ...  -239.  -295.   -79.]\n",
      " [  219.   148.    60. ... -3089.   -61.  -255.]\n",
      " ...\n",
      " [  174.    26.    30. ... -2865.    60.   153.]\n",
      " [  -26.   325.   276. ...  -208.  -218.   -22.]\n",
      " [  351.   149.   130. ... -2788.   139.   128.]] [1 1 1 1 1 0 0 1 0 1 0 0 1 0 0 1 1 0 0 0 0 1 1 0 0 0 1 0 0 1 0 0 0 1 1 0 1\n",
      " 0 0 1 1 1] [0 0 1 0 1 1 0 0 0 1 1 1 1 0 1 1 0 1]\n",
      "[0 0 1 0 1 1 0 0 0 1 1 1 1 0 1 1 0 1]\n",
      "[0 0 1 0 1 1 0 0 0 1 1 1 1 0 1 1 0 1]\n",
      "1.0 1.0\n"
     ]
    },
    {
     "data": {
      "text/plain": [
       "(1.0, 1.0)"
      ]
     },
     "execution_count": 38,
     "metadata": {},
     "output_type": "execute_result"
    }
   ],
   "source": [
    "experiment(ts1, ts3)"
   ]
  },
  {
   "cell_type": "code",
   "execution_count": 39,
   "metadata": {},
   "outputs": [
    {
     "name": "stdout",
     "output_type": "stream",
     "text": [
      "[[  -64.  -143.    64. ...   -22.   108.   116.]\n",
      " [  241.   177.   110. ... -3199.  -146.  -327.]\n",
      " [  -34.  -100.    64. ...   -45.   122.   190.]\n",
      " ...\n",
      " [  170.    34.    -8. ... -2844.    85.   210.]\n",
      " [  209.    20.  -272. ...  -250.  -394.  -264.]\n",
      " [  169.    60.   -16. ... -2905.    67.   180.]] [0 1 0 1 0 1 0 1 0 1 0 1 0 1 0 1 0 1 0 1 0 1 0 1 0 1 0 1 0 1 0 1 0 1 0 1 0\n",
      " 1 0 1 0 1 0 1 0 1 0 1 0 1 0 1 0 1 0 1 0 1 0 1]\n",
      "[[   68.   -34.    60. ...    24.    10.   281.]\n",
      " [  173.    31.    41. ... -2805.    89.   164.]\n",
      " [   79.   -14.    65. ...   -98.  -126.   238.]\n",
      " ...\n",
      " [    9.    -5.   113. ...   -43.    66.   205.]\n",
      " [  108.   -34.    41. ...   -21.   -26.   287.]\n",
      " [  128.    -6.  -156. ...   -72.  -111.   233.]] [[  321.    87.   174. ... -2794.    -7.  -122.]\n",
      " [  149.     4.   -10. ... -2871.   -66.  -213.]\n",
      " [  143.    19.   -20. ... -2792.    78.  -134.]\n",
      " ...\n",
      " [    8.  -223.  -371. ...  -142.  -101.   210.]\n",
      " [   93.  -162.  -425. ...  -222.  -278.    23.]\n",
      " [  368.   198.   194. ... -2743.   101.    20.]] [0 1 0 1 1 1 1 0 0 1 0 0 0 0 0 0 1 1 1 1 0 0 1 1 1 0 0 0 0 1 1 0 0 1 1 0 1\n",
      " 1 0 0 0 0] [1 1 1 1 1 0 1 1 1 1 0 0 0 0 1 0 0 1]\n",
      "[1 1 1 1 1 0 1 1 1 1 0 0 0 0 1 0 0 1]\n",
      "[1 1 1 1 1 0 1 1 1 1 0 0 0 0 1 0 0 1]\n",
      "1.0 1.0\n"
     ]
    },
    {
     "data": {
      "text/plain": [
       "(1.0, 1.0)"
      ]
     },
     "execution_count": 39,
     "metadata": {},
     "output_type": "execute_result"
    }
   ],
   "source": [
    "experiment(ts2, ts3)"
   ]
  },
  {
   "cell_type": "code",
   "execution_count": 40,
   "metadata": {},
   "outputs": [
    {
     "name": "stdout",
     "output_type": "stream",
     "text": [
      "[[ -36.  188.  324. ...  -18.  -71.  161.]\n",
      " [  81.   92.   86. ...  153.   71.   69.]\n",
      " [ -38.  192.  314. ...  -20.  -60.  186.]\n",
      " ...\n",
      " [ 114.   82.   50. ...  -26. -122.   58.]\n",
      " [ -19.   75.  -14. ... -106.   -1.  -31.]\n",
      " [  77.   35.   29. ...   46.  -75.   67.]] [0 1 0 1 0 1 0 1 0 1 0 1 0 1 0 1 0 1 0 1 0 1 0 1 0 1 0 1 0 1 0 1 0 1 0 1 0\n",
      " 1 0 1 0 1 0 1 0 1 0 1 0 1 0 1 0 1 0 1 0 1 0 1]\n",
      "[[ 199.  141.   44. ... -153. -262.    2.]\n",
      " [  31.   33.  -32. ...  102.   76.  204.]\n",
      " [ 108.  116.  123. ...  178.   59.   91.]\n",
      " ...\n",
      " [ -17.    5.  -55. ... -127.  -49.  197.]\n",
      " [ -12.  259.  215. ...  -64. -285. -110.]\n",
      " [ -19.   75.  -14. ... -106.   -1.  -31.]] [[ 128.  114.   36. ... -233. -208.   91.]\n",
      " [ -17.  -14.  -95. ...    4.   35.  274.]\n",
      " [ -20.  352.  298. ... -239. -295.  -79.]\n",
      " ...\n",
      " [  77.   35.   29. ...   46.  -75.   67.]\n",
      " [  81.   92.   86. ...  153.   71.   69.]\n",
      " [ -72.  205.  306. ...  -69.  -79.  173.]] [1 1 1 1 1 0 0 0 1 0 1 1 0 0 0 0 1 0 0 1 1 1 1 0 1 0 1 1 1 1 0 0 0 0 0 0 1\n",
      " 1 1 1 0 0] [1 1 0 1 1 0 0 0 0 0 1 0 0 1 0 1 1 0]\n",
      "[1 1 0 1 1 0 0 0 0 0 1 0 0 1 0 1 1 0]\n",
      "[1 1 0 1 1 0 0 0 0 0 1 0 0 1 0 1 1 0]\n",
      "1.0 1.0\n"
     ]
    },
    {
     "data": {
      "text/plain": [
       "(1.0, 1.0)"
      ]
     },
     "execution_count": 40,
     "metadata": {},
     "output_type": "execute_result"
    }
   ],
   "source": [
    "experiment(ts1, ts4)"
   ]
  },
  {
   "cell_type": "code",
   "execution_count": 41,
   "metadata": {},
   "outputs": [
    {
     "name": "stdout",
     "output_type": "stream",
     "text": [
      "[[ -64. -143.   64. ...  -22.  108.  116.]\n",
      " [  81.   92.   86. ...  153.   71.   69.]\n",
      " [ -34. -100.   64. ...  -45.  122.  190.]\n",
      " ...\n",
      " [ 114.   82.   50. ...  -26. -122.   58.]\n",
      " [ 209.   20. -272. ... -250. -394. -264.]\n",
      " [  77.   35.   29. ...   46.  -75.   67.]] [0 1 0 1 0 1 0 1 0 1 0 1 0 1 0 1 0 1 0 1 0 1 0 1 0 1 0 1 0 1 0 1 0 1 0 1 0\n",
      " 1 0 1 0 1 0 1 0 1 0 1 0 1 0 1 0 1 0 1 0 1 0 1]\n",
      "[[ 126.   97.   48. ...  -89. -160.   27.]\n",
      " [  59.   65.   -2. ... -166. -151.  154.]\n",
      " [ 165.  122.   35. ... -154. -236.   -8.]\n",
      " ...\n",
      " [ 155.   34.  -49. ... -134. -163.  248.]\n",
      " [  35.   62.   21. ...  128.   68.  173.]\n",
      " [ -37.  -25. -122. ...  -29.   31.  274.]] [[ 159.  131.   70. ... -217. -233.   72.]\n",
      " [ 227.   20. -181. ... -108. -108.  220.]\n",
      " [ 103. -175. -446. ... -220. -244.   76.]\n",
      " ...\n",
      " [ 140.  123.   50. ... -165. -226.  -11.]\n",
      " [ 145.  -75. -349. ... -236. -328. -103.]\n",
      " [ 130.   11.   24. ... -129. -170.  216.]] [1 1 1 1 1 1 0 0 1 0 0 1 0 1 1 1 1 0 0 0 1 1 0 0 0 1 0 1 0 0 0 0 1 1 1 1 0\n",
      " 0 1 0 1 1] [1 0 0 0 0 0 0 0 1 1 1 0 1 0 1 1 0 0]\n",
      "[1 0 0 0 0 0 0 0 1 1 1 0 1 0 1 1 0 0]\n",
      "[1 0 0 0 0 0 0 0 1 1 1 0 1 0 1 1 0 0]\n",
      "1.0 1.0\n"
     ]
    },
    {
     "data": {
      "text/plain": [
       "(1.0, 1.0)"
      ]
     },
     "execution_count": 41,
     "metadata": {},
     "output_type": "execute_result"
    }
   ],
   "source": [
    "experiment(ts2, ts4)"
   ]
  },
  {
   "cell_type": "code",
   "execution_count": 42,
   "metadata": {},
   "outputs": [
    {
     "name": "stdout",
     "output_type": "stream",
     "text": [
      "[[  241.   177.   110. ... -3199.  -146.  -327.]\n",
      " [   81.    92.    86. ...   153.    71.    69.]\n",
      " [  219.   148.    60. ... -3089.   -61.  -255.]\n",
      " ...\n",
      " [  114.    82.    50. ...   -26.  -122.    58.]\n",
      " [  169.    60.   -16. ... -2905.    67.   180.]\n",
      " [   77.    35.    29. ...    46.   -75.    67.]] [0 1 0 1 0 1 0 1 0 1 0 1 0 1 0 1 0 1 0 1 0 1 0 1 0 1 0 1 0 1 0 1 0 1 0 1 0\n",
      " 1 0 1 0 1 0 1 0 1 0 1 0 1 0 1 0 1 0 1 0 1 0 1]\n",
      "[[  364.   174.   181. ... -2730.   102.    22.]\n",
      " [  165.   122.    35. ...  -154.  -236.    -8.]\n",
      " [  225.    38.    25. ... -2852.   -66.  -187.]\n",
      " ...\n",
      " [  390.   222.   228. ... -2764.    58.   -71.]\n",
      " [   81.    92.    86. ...   153.    71.    69.]\n",
      " [  399.   212.   301. ... -2782.    30.  -107.]] [[ 1.990e+02  1.410e+02  4.400e+01 ... -1.530e+02 -2.620e+02  2.000e+00]\n",
      " [-1.000e+01 -6.000e+00 -7.400e+01 ...  5.900e+01  4.500e+01  2.580e+02]\n",
      " [-1.700e+01 -1.400e+01 -9.500e+01 ...  4.000e+00  3.500e+01  2.740e+02]\n",
      " ...\n",
      " [ 1.280e+02  1.140e+02  3.600e+01 ... -2.330e+02 -2.080e+02  9.100e+01]\n",
      " [ 2.040e+02  6.800e+01  8.000e+01 ... -2.673e+03  2.000e+02  2.240e+02]\n",
      " [ 3.260e+02  1.290e+02  1.330e+02 ... -2.710e+03  1.770e+02  1.840e+02]] [0 1 0 0 1 0 1 1 1 1 1 1 1 1 1 1 0 0 1 0 0 0 0 0 1 0 0 0 1 0 0 1 1 1 1 0 1\n",
      " 0 1 0 1 0] [1 1 1 0 0 1 0 0 0 1 0 1 0 1 0 1 0 0]\n",
      "[1 1 1 0 0 1 0 0 0 1 0 1 0 1 0 1 0 0]\n",
      "[1 1 1 0 0 1 0 0 0 1 0 1 0 1 0 1 0 0]\n",
      "1.0 1.0\n"
     ]
    },
    {
     "data": {
      "text/plain": [
       "(1.0, 1.0)"
      ]
     },
     "execution_count": 42,
     "metadata": {},
     "output_type": "execute_result"
    }
   ],
   "source": [
    "experiment(ts3, ts4)"
   ]
  },
  {
   "cell_type": "code",
   "execution_count": 43,
   "metadata": {},
   "outputs": [
    {
     "name": "stdout",
     "output_type": "stream",
     "text": [
      "[[ -36.  188.  324. ...  -18.  -71.  161.]\n",
      " [-323.  -55.  -79. ...  -93.  -55.  164.]\n",
      " [ -38.  192.  314. ...  -20.  -60.  186.]\n",
      " ...\n",
      " [ 164.  102.  148. ...  208.  143. -249.]\n",
      " [ -19.   75.  -14. ... -106.   -1.  -31.]\n",
      " [  35.  -15.   66. ...  227.  197. -201.]] [0 1 0 1 0 1 0 1 0 1 0 1 0 1 0 1 0 1 0 1 0 1 0 1 0 1 0 1 0 1 0 1 0 1 0 1 0\n",
      " 1 0 1 0 1 0 1 0 1 0 1 0 1 0 1 0 1 0 1 0 1 0 1]\n",
      "[[  35.  -15.   66. ...  227.  197. -201.]\n",
      " [-333.    9.   30. ...  -66. -218.   66.]\n",
      " [-115.   68.  -22. ...   77. -148.   28.]\n",
      " ...\n",
      " [-286. -189.  -24. ...  287.    6.  -73.]\n",
      " [  83.  394.  332. ... -230. -462. -202.]\n",
      " [ -70.   72.   36. ...  -40.   68.   58.]] [[ -44.    2.  132. ...  373.   33. -133.]\n",
      " [  85.  130.  151. ...  187.  -91. -322.]\n",
      " [ -26.  325.  276. ... -208. -218.  -22.]\n",
      " ...\n",
      " [ -53.  187.  100. ...   -5. -229.  -48.]\n",
      " [-315.  -12. -120. ...   88. -242.  -60.]\n",
      " [  77.  112.   87. ...  166.   -4. -359.]] [1 1 0 1 0 1 1 1 1 1 0 0 0 0 0 0 1 0 0 0 1 1 1 1 1 0 1 1 0 0 0 0 1 1 0 1 1\n",
      " 0 0 1 0 0] [1 1 0 1 0 0 1 0 0 1 1 0 0 1 0 0 1 1]\n",
      "[1 1 0 1 0 0 1 0 0 1 1 0 0 1 0 0 1 1]\n",
      "[1 1 0 1 0 0 1 0 0 1 1 0 0 1 0 0 1 1]\n",
      "1.0 1.0\n"
     ]
    },
    {
     "data": {
      "text/plain": [
       "(1.0, 1.0)"
      ]
     },
     "execution_count": 43,
     "metadata": {},
     "output_type": "execute_result"
    }
   ],
   "source": [
    "experiment(ts1, ts5)"
   ]
  },
  {
   "cell_type": "code",
   "execution_count": 44,
   "metadata": {},
   "outputs": [
    {
     "name": "stdout",
     "output_type": "stream",
     "text": [
      "[[ -64. -143.   64. ...  -22.  108.  116.]\n",
      " [-323.  -55.  -79. ...  -93.  -55.  164.]\n",
      " [ -34. -100.   64. ...  -45.  122.  190.]\n",
      " ...\n",
      " [ 164.  102.  148. ...  208.  143. -249.]\n",
      " [ 209.   20. -272. ... -250. -394. -264.]\n",
      " [  35.  -15.   66. ...  227.  197. -201.]] [0 1 0 1 0 1 0 1 0 1 0 1 0 1 0 1 0 1 0 1 0 1 0 1 0 1 0 1 0 1 0 1 0 1 0 1 0\n",
      " 1 0 1 0 1 0 1 0 1 0 1 0 1 0 1 0 1 0 1 0 1 0 1]\n",
      "[[  79.  -14.   65. ...  -98. -126.  238.]\n",
      " [ 145.  -75. -349. ... -236. -328. -103.]\n",
      " [ 114.  -92. -291. ...  -77.  -59.  241.]\n",
      " ...\n",
      " [  77.  112.   87. ...  166.   -4. -359.]\n",
      " [ -44.    2.  132. ...  373.   33. -133.]\n",
      " [ 128.   -6. -156. ...  -72. -111.  233.]] [[  61.  139.  235. ...  348.   11. -177.]\n",
      " [  85.  109.  133. ...  137.  -97. -372.]\n",
      " [-288. -114.   -4. ...  279.  -44.  -56.]\n",
      " ...\n",
      " [  80.  105.  102. ...  104.  -61. -409.]\n",
      " [  85.  130.  151. ...  187.  -91. -322.]\n",
      " [-352.  -77. -135. ...  127. -209.  -78.]] [0 0 0 0 0 1 0 0 0 0 1 0 0 1 0 1 1 0 0 0 0 1 1 1 0 1 0 0 0 0 0 0 0 0 1 1 1\n",
      " 1 1 1 1 0] [1 1 1 0 1 1 1 1 1 1 0 0 1 0 1 1 1 1]\n",
      "[1 1 1 0 1 1 1 1 1 1 0 0 1 0 1 1 1 1]\n",
      "[1 1 1 0 1 1 1 1 1 1 0 0 1 0 1 1 1 1]\n",
      "1.0 1.0\n"
     ]
    },
    {
     "data": {
      "text/plain": [
       "(1.0, 1.0)"
      ]
     },
     "execution_count": 44,
     "metadata": {},
     "output_type": "execute_result"
    }
   ],
   "source": [
    "experiment(ts2, ts5)"
   ]
  },
  {
   "cell_type": "code",
   "execution_count": 45,
   "metadata": {},
   "outputs": [
    {
     "name": "stdout",
     "output_type": "stream",
     "text": [
      "[[  241.   177.   110. ... -3199.  -146.  -327.]\n",
      " [ -323.   -55.   -79. ...   -93.   -55.   164.]\n",
      " [  219.   148.    60. ... -3089.   -61.  -255.]\n",
      " ...\n",
      " [  164.   102.   148. ...   208.   143.  -249.]\n",
      " [  169.    60.   -16. ... -2905.    67.   180.]\n",
      " [   35.   -15.    66. ...   227.   197.  -201.]] [0 1 0 1 0 1 0 1 0 1 0 1 0 1 0 1 0 1 0 1 0 1 0 1 0 1 0 1 0 1 0 1 0 1 0 1 0\n",
      " 1 0 1 0 1 0 1 0 1 0 1 0 1 0 1 0 1 0 1 0 1 0 1]\n",
      "[[   20.    -4.     4. ...   197.    54.  -304.]\n",
      " [ -333.     9.    30. ...   -66.  -218.    66.]\n",
      " [ -276.   -41.     0. ...   228.  -111.   -70.]\n",
      " ...\n",
      " [ -276.    62.    42. ...   -67.  -179.   111.]\n",
      " [  177.    18.     3. ... -2825.   -69.  -211.]\n",
      " [   77.   112.    87. ...   166.    -4.  -359.]] [[  326.   129.   133. ... -2710.   177.   184.]\n",
      " [  166.    46.   -33. ... -2900.    28.  -191.]\n",
      " [ -352.   -77.  -135. ...   127.  -209.   -78.]\n",
      " ...\n",
      " [  164.   102.   148. ...   208.   143.  -249.]\n",
      " [  168.    28.     4. ... -2839.   120.   234.]\n",
      " [  174.    26.    30. ... -2865.    60.   153.]] [1 1 1 1 1 0 0 1 1 0 0 0 1 0 0 0 0 1 0 0 1 1 1 1 1 1 0 0 1 1 1 0 0 0 0 1 1\n",
      " 0 0 1 0 1] [0 0 1 0 1 0 1 0 1 1 0 0 1 1 0 1 0 0]\n",
      "[0 0 1 0 1 0 1 0 1 1 0 0 1 1 0 1 0 0]\n",
      "[0 0 1 0 1 0 1 0 1 1 0 0 1 1 0 1 0 0]\n",
      "1.0 1.0\n"
     ]
    },
    {
     "data": {
      "text/plain": [
       "(1.0, 1.0)"
      ]
     },
     "execution_count": 45,
     "metadata": {},
     "output_type": "execute_result"
    }
   ],
   "source": [
    "experiment(ts3, ts5)"
   ]
  },
  {
   "cell_type": "code",
   "execution_count": 46,
   "metadata": {},
   "outputs": [
    {
     "name": "stdout",
     "output_type": "stream",
     "text": [
      "[[  81.   92.   86. ...  153.   71.   69.]\n",
      " [-323.  -55.  -79. ...  -93.  -55.  164.]\n",
      " [ 108.  116.  123. ...  178.   59.   91.]\n",
      " ...\n",
      " [ 164.  102.  148. ...  208.  143. -249.]\n",
      " [  77.   35.   29. ...   46.  -75.   67.]\n",
      " [  35.  -15.   66. ...  227.  197. -201.]] [0 1 0 1 0 1 0 1 0 1 0 1 0 1 0 1 0 1 0 1 0 1 0 1 0 1 0 1 0 1 0 1 0 1 0 1 0\n",
      " 1 0 1 0 1 0 1 0 1 0 1 0 1 0 1 0 1 0 1 0 1 0 1]\n",
      "[[  70.   30.   70. ...  203.   94. -272.]\n",
      " [-323.  -55.  -79. ...  -93.  -55.  164.]\n",
      " [ -10.   -6.  -74. ...   59.   45.  258.]\n",
      " ...\n",
      " [ 140.  123.   50. ... -165. -226.  -11.]\n",
      " [  85.  130.  151. ...  187.  -91. -322.]\n",
      " [-269. -138.   15. ...  303.  -17.  -51.]] [[-246.   68.   92. ...  -64. -266.  -22.]\n",
      " [ -19.   -2. -101. ...  -69.    9.  243.]\n",
      " [  61.  139.  235. ...  348.   11. -177.]\n",
      " ...\n",
      " [-352.  -77. -135. ...  127. -209.  -78.]\n",
      " [  20.   -4.    4. ...  197.   54. -304.]\n",
      " [ 159.  131.   70. ... -217. -233.   72.]] [1 1 0 1 1 0 1 1 0 0 0 1 0 1 1 0 1 0 1 0 1 0 0 0 0 0 1 0 1 1 1 0 1 0 1 1 0\n",
      " 0 0 0 1 1] [1 0 1 0 1 0 0 0 1 1 0 1 1 0 0 1 1 0]\n",
      "[1 0 1 0 1 0 0 0 1 1 0 1 1 0 0 1 1 0]\n",
      "[1 0 1 0 1 0 0 0 1 1 0 1 1 0 0 1 1 0]\n",
      "1.0 1.0\n"
     ]
    },
    {
     "data": {
      "text/plain": [
       "(1.0, 1.0)"
      ]
     },
     "execution_count": 46,
     "metadata": {},
     "output_type": "execute_result"
    }
   ],
   "source": [
    "experiment(ts4, ts5)"
   ]
  },
  {
   "cell_type": "code",
   "execution_count": 47,
   "metadata": {},
   "outputs": [
    {
     "name": "stdout",
     "output_type": "stream",
     "text": [
      "[[ -64. -143.   64. ...  -22.  108.  116.]\n",
      " [-339.   82.   71. ...   71.   32.   30.]\n",
      " [ -34. -100.   64. ...  -45.  122.  190.]\n",
      " ...\n",
      " [ 168.  -50.  -70. ... -263.   -1.  -66.]\n",
      " [ 209.   20. -272. ... -250. -394. -264.]\n",
      " [ 209.  -21.  -72. ... -305.  -75. -135.]] [0 1 0 1 0 1 0 1 0 1 0 1 0 1 0 1 0 1 0 1 0 1 0 1 0 1 0 1 0 1 0 1 0 1 0 1 0\n",
      " 1 0 1 0 1 0 1 0 1 0 1 0 1 0 1 0 1 0 1 0 1 0 1]\n",
      "[[  79.  -14.   65. ...  -98. -126.  238.]\n",
      " [ 103. -175. -446. ... -220. -244.   76.]\n",
      " [ -57.  -62.  -21. ...   78.   37.  269.]\n",
      " ...\n",
      " [  66.  -83.  -45. ...  -84.  261.  164.]\n",
      " [ 130.   11.   24. ... -129. -170.  216.]\n",
      " [-139.   17.  -15. ...   11.  543.  367.]] [[-414.  103.   91. ...   47.  122.   70.]\n",
      " [-339.   82.   71. ...   71.   32.   30.]\n",
      " [-124.  -11.  -22. ...   11.  553.  367.]\n",
      " ...\n",
      " [-393.   72.   59. ...   72.   95.   45.]\n",
      " [  91. -194. -412. ... -209. -184.  134.]\n",
      " [   9.   -5.  113. ...  -43.   66.  205.]] [0 0 0 0 1 0 0 0 1 1 0 1 0 0 0 1 1 0 0 1 1 1 1 1 1 1 0 1 0 0 1 0 0 1 0 0 0\n",
      " 1 1 1 0 1] [1 1 1 0 0 1 1 1 1 1 0 0 0 1 0 1 0 0]\n",
      "[1 1 1 0 0 1 1 1 1 1 0 0 0 1 0 1 0 0]\n",
      "[1 1 1 0 0 1 1 1 1 1 0 0 0 1 0 1 0 0]\n",
      "1.0 1.0\n"
     ]
    },
    {
     "data": {
      "text/plain": [
       "(1.0, 1.0)"
      ]
     },
     "execution_count": 47,
     "metadata": {},
     "output_type": "execute_result"
    }
   ],
   "source": [
    "experiment(ts1, ts6)"
   ]
  },
  {
   "cell_type": "code",
   "execution_count": 48,
   "metadata": {},
   "outputs": [
    {
     "name": "stdout",
     "output_type": "stream",
     "text": [
      "[[ -64. -143.   64. ...  -22.  108.  116.]\n",
      " [-339.   82.   71. ...   71.   32.   30.]\n",
      " [ -34. -100.   64. ...  -45.  122.  190.]\n",
      " ...\n",
      " [ 168.  -50.  -70. ... -263.   -1.  -66.]\n",
      " [ 209.   20. -272. ... -250. -394. -264.]\n",
      " [ 209.  -21.  -72. ... -305.  -75. -135.]] [0 1 0 1 0 1 0 1 0 1 0 1 0 1 0 1 0 1 0 1 0 1 0 1 0 1 0 1 0 1 0 1 0 1 0 1 0\n",
      " 1 0 1 0 1 0 1 0 1 0 1 0 1 0 1 0 1 0 1 0 1 0 1]\n",
      "[[-170.  104.   81. ... -112.  407.  265.]\n",
      " [  93. -162. -425. ... -222. -278.   23.]\n",
      " [-361.  146.  140. ...  -61.  115.   71.]\n",
      " ...\n",
      " [-392.   97.  102. ...   68.  104.   69.]\n",
      " [ 209.   99. -134. ...  -96. -113.  297.]\n",
      " [   8. -223. -371. ... -142. -101.  210.]] [[ 155.   34.  -49. ... -134. -163.  248.]\n",
      " [ 130.   11.   24. ... -129. -170.  216.]\n",
      " [-124.  -11.  -22. ...   11.  553.  367.]\n",
      " ...\n",
      " [  38.  -73.  -43. ...  -40.  332.  199.]\n",
      " [ -49.  -92.  -39. ...   81.   36.  277.]\n",
      " [ 145.  -75. -349. ... -236. -328. -103.]] [1 0 1 0 0 1 0 0 1 0 0 1 0 1 1 0 0 0 1 0 0 1 1 1 0 0 1 1 0 1 1 0 0 0 0 1 1\n",
      " 1 0 1 0 0] [0 0 1 1 1 1 1 1 0 1 1 0 1 0 1 1 0 0]\n",
      "[0 0 1 1 1 1 1 1 0 1 1 0 1 0 1 1 0 0]\n",
      "[0 0 1 1 1 1 1 1 0 1 1 0 1 0 1 1 0 0]\n",
      "1.0 1.0\n"
     ]
    },
    {
     "data": {
      "text/plain": [
       "(1.0, 1.0)"
      ]
     },
     "execution_count": 48,
     "metadata": {},
     "output_type": "execute_result"
    }
   ],
   "source": [
    "experiment(ts2, ts6)"
   ]
  },
  {
   "cell_type": "code",
   "execution_count": 49,
   "metadata": {},
   "outputs": [
    {
     "name": "stdout",
     "output_type": "stream",
     "text": [
      "[[ 2.410e+02  1.770e+02  1.100e+02 ... -3.199e+03 -1.460e+02 -3.270e+02]\n",
      " [-3.390e+02  8.200e+01  7.100e+01 ...  7.100e+01  3.200e+01  3.000e+01]\n",
      " [ 2.190e+02  1.480e+02  6.000e+01 ... -3.089e+03 -6.100e+01 -2.550e+02]\n",
      " ...\n",
      " [ 1.680e+02 -5.000e+01 -7.000e+01 ... -2.630e+02 -1.000e+00 -6.600e+01]\n",
      " [ 1.690e+02  6.000e+01 -1.600e+01 ... -2.905e+03  6.700e+01  1.800e+02]\n",
      " [ 2.090e+02 -2.100e+01 -7.200e+01 ... -3.050e+02 -7.500e+01 -1.350e+02]] [0 1 0 1 0 1 0 1 0 1 0 1 0 1 0 1 0 1 0 1 0 1 0 1 0 1 0 1 0 1 0 1 0 1 0 1 0\n",
      " 1 0 1 0 1 0 1 0 1 0 1 0 1 0 1 0 1 0 1 0 1 0 1]\n",
      "[[  202.   118.    15. ... -2987.    20.  -187.]\n",
      " [  263.   100.   114. ... -2641.   236.   248.]\n",
      " [ -139.    17.   -15. ...    11.   543.   367.]\n",
      " ...\n",
      " [  390.   222.   228. ... -2764.    58.   -71.]\n",
      " [  383.   183.   177. ... -2740.    82.   -15.]\n",
      " [  275.    53.    94. ... -2840.   -63.  -182.]] [[ -298.   157.   152. ...  -208.   250.   128.]\n",
      " [  170.    34.    -8. ... -2844.    85.   210.]\n",
      " [ -382.   124.   114. ...    12.   114.    85.]\n",
      " ...\n",
      " [  219.   148.    60. ... -3089.   -61.  -255.]\n",
      " [ -124.   -11.   -22. ...    11.   553.   367.]\n",
      " [  -97.   -36.   -76. ...    81.   530.   347.]] [0 0 1 0 1 1 0 0 0 1 1 1 1 0 1 1 0 0 1 0 1 1 1 1 1 0 1 0 0 1 0 0 1 1 0 0 1\n",
      " 0 0 0 0 0] [1 0 1 0 1 0 0 1 1 0 1 1 0 1 0 0 1 1]\n",
      "[1 0 1 0 1 0 0 1 1 0 1 1 0 1 0 0 1 1]\n",
      "[1 0 1 0 1 0 0 1 1 0 1 1 0 1 0 0 1 1]\n",
      "1.0 1.0\n"
     ]
    },
    {
     "data": {
      "text/plain": [
       "(1.0, 1.0)"
      ]
     },
     "execution_count": 49,
     "metadata": {},
     "output_type": "execute_result"
    }
   ],
   "source": [
    "experiment(ts3, ts6)"
   ]
  },
  {
   "cell_type": "code",
   "execution_count": 50,
   "metadata": {},
   "outputs": [
    {
     "name": "stdout",
     "output_type": "stream",
     "text": [
      "[[  81.   92.   86. ...  153.   71.   69.]\n",
      " [-339.   82.   71. ...   71.   32.   30.]\n",
      " [ 108.  116.  123. ...  178.   59.   91.]\n",
      " ...\n",
      " [ 168.  -50.  -70. ... -263.   -1.  -66.]\n",
      " [  77.   35.   29. ...   46.  -75.   67.]\n",
      " [ 209.  -21.  -72. ... -305.  -75. -135.]] [0 1 0 1 0 1 0 1 0 1 0 1 0 1 0 1 0 1 0 1 0 1 0 1 0 1 0 1 0 1 0 1 0 1 0 1 0\n",
      " 1 0 1 0 1 0 1 0 1 0 1 0 1 0 1 0 1 0 1 0 1 0 1]\n",
      "[[ -11.  -64.  -57. ...    0.  405.  266.]\n",
      " [-152.   43.  -19. ...  -35.  510.  328.]\n",
      " [  77.   35.   29. ...   46.  -75.   67.]\n",
      " ...\n",
      " [ 199.  141.   44. ... -153. -262.    2.]\n",
      " [  59.   65.   -2. ... -166. -151.  154.]\n",
      " [  15.    0.  -65. ...   85.   60.  232.]] [[  35.   62.   21. ...  128.   68.  173.]\n",
      " [ 159.  131.   70. ... -217. -233.   72.]\n",
      " [  81.   92.   86. ...  153.   71.   69.]\n",
      " ...\n",
      " [ 128.  114.   36. ... -233. -208.   91.]\n",
      " [  31.   33.  -32. ...  102.   76.  204.]\n",
      " [  71.   96.  107. ...  180.   91.  154.]] [1 1 0 1 0 1 1 0 0 0 0 1 1 1 1 0 1 1 1 0 1 0 0 0 1 0 1 1 0 1 1 1 0 1 1 1 0\n",
      " 0 1 0 0 0] [0 0 0 0 1 0 0 0 1 1 1 1 1 1 0 0 0 0]\n",
      "[0 0 0 0 1 0 0 0 1 1 1 1 1 1 0 0 0 0]\n",
      "[0 0 0 0 1 0 0 0 1 1 1 1 1 1 0 0 0 0]\n",
      "1.0 1.0\n"
     ]
    },
    {
     "data": {
      "text/plain": [
       "(1.0, 1.0)"
      ]
     },
     "execution_count": 50,
     "metadata": {},
     "output_type": "execute_result"
    }
   ],
   "source": [
    "experiment(ts4, ts6)"
   ]
  },
  {
   "cell_type": "code",
   "execution_count": 51,
   "metadata": {},
   "outputs": [
    {
     "name": "stdout",
     "output_type": "stream",
     "text": [
      "[[-323.  -55.  -79. ...  -93.  -55.  164.]\n",
      " [-339.   82.   71. ...   71.   32.   30.]\n",
      " [-265.   51.   29. ... -106. -126.  137.]\n",
      " ...\n",
      " [ 168.  -50.  -70. ... -263.   -1.  -66.]\n",
      " [  35.  -15.   66. ...  227.  197. -201.]\n",
      " [ 209.  -21.  -72. ... -305.  -75. -135.]] [0 1 0 1 0 1 0 1 0 1 0 1 0 1 0 1 0 1 0 1 0 1 0 1 0 1 0 1 0 1 0 1 0 1 0 1 0\n",
      " 1 0 1 0 1 0 1 0 1 0 1 0 1 0 1 0 1 0 1 0 1 0 1]\n",
      "[[  66.  -83.  -45. ...  -84.  261.  164.]\n",
      " [-370.  -12.   20. ...  -69. -233.   44.]\n",
      " [  38.  -73.  -43. ...  -40.  332.  199.]\n",
      " ...\n",
      " [ -97.  -36.  -76. ...   81.  530.  347.]\n",
      " [ 137.  -89.  -82. ... -178.  100.   31.]\n",
      " [-269. -138.   15. ...  303.  -17.  -51.]] [[-170.  104.   81. ... -112.  407.  265.]\n",
      " [-246.   68.   92. ...  -64. -266.  -22.]\n",
      " [-356.  177.  224. ... -196.  178.   78.]\n",
      " ...\n",
      " [-352.  -77. -135. ...  127. -209.  -78.]\n",
      " [-312. -215.  -64. ...  334.   13. -105.]\n",
      " [ -65.  -51.  -75. ...   59.  479.  323.]] [1 0 1 1 1 0 0 1 0 0 1 0 0 0 1 1 0 1 0 0 1 1 0 0 0 0 0 0 1 0 0 0 1 0 1 1 1\n",
      " 0 1 1 1 0] [1 0 1 1 1 0 1 1 0 0 1 1 0 1 1 0 0 1]\n",
      "[1 0 1 1 1 0 1 1 0 0 1 1 0 1 1 0 0 1]\n",
      "[1 0 1 1 1 0 1 1 0 0 1 1 0 1 1 0 0 1]\n",
      "1.0 1.0\n"
     ]
    },
    {
     "data": {
      "text/plain": [
       "(1.0, 1.0)"
      ]
     },
     "execution_count": 51,
     "metadata": {},
     "output_type": "execute_result"
    }
   ],
   "source": [
    "experiment(ts5, ts6)"
   ]
  },
  {
   "cell_type": "code",
   "execution_count": 52,
   "metadata": {},
   "outputs": [
    {
     "name": "stdout",
     "output_type": "stream",
     "text": [
      "[[ -36.  188.  324. ...  -18.  -71.  161.]\n",
      " [-546.  -98.   68. ...  130.  -61.   72.]\n",
      " [ -38.  192.  314. ...  -20.  -60.  186.]\n",
      " ...\n",
      " [  61.  186.  159. ...  -11.  -36.  205.]\n",
      " [ -19.   75.  -14. ... -106.   -1.  -31.]\n",
      " [  67.  170.  163. ...   48.   10.  236.]] [0 1 0 1 0 1 0 1 0 1 0 1 0 1 0 1 0 1 0 1 0 1 0 1 0 1 0 1 0 1 0 1 0 1 0 1 0\n",
      " 1 0 1 0 1 0 1 0 1 0 1 0 1 0 1 0 1 0 1 0 1 0 1]\n",
      "[[  10.  390.  344. ... -250. -380. -137.]\n",
      " [ -53.  187.  100. ...   -5. -229.  -48.]\n",
      " [-588.  -84.   44. ...   42. -113.   83.]\n",
      " ...\n",
      " [ -20.  196.  174. ...  -48.  -33.  209.]\n",
      " [-300.    5.  159. ...  -35.    4.  250.]\n",
      " [-126.  151.   92. ...  -62.  -28.  207.]] [[ -38.  192.  314. ...  -20.  -60.  186.]\n",
      " [ -84.  239.  269. ... -113. -121.   94.]\n",
      " [  47.  342.  310. ... -174. -413. -196.]\n",
      " ...\n",
      " [-669.   -6.   15. ...   63. -117.  135.]\n",
      " [-691.  -62.   51. ...  108.  -23.  271.]\n",
      " [-628.   -3.    3. ...   53. -112.  121.]] [0 0 1 1 1 1 1 1 0 1 1 1 0 0 0 0 1 1 0 0 1 0 1 1 0 0 1 1 0 0 0 1 0 0 0 0 1\n",
      " 0 1 1 1 1] [0 0 0 0 1 1 0 0 0 0 0 1 1 1 0 1 1 1]\n",
      "[0 0 0 0 1 1 0 0 0 0 0 1 1 1 0 1 1 1]\n",
      "[0 0 0 0 1 1 0 0 0 0 0 1 1 1 0 1 1 1]\n",
      "1.0 1.0\n"
     ]
    },
    {
     "data": {
      "text/plain": [
       "(1.0, 1.0)"
      ]
     },
     "execution_count": 52,
     "metadata": {},
     "output_type": "execute_result"
    }
   ],
   "source": [
    "experiment(ts1, ts7)"
   ]
  },
  {
   "cell_type": "code",
   "execution_count": 53,
   "metadata": {},
   "outputs": [
    {
     "name": "stdout",
     "output_type": "stream",
     "text": [
      "[[ -64. -143.   64. ...  -22.  108.  116.]\n",
      " [-546.  -98.   68. ...  130.  -61.   72.]\n",
      " [ -34. -100.   64. ...  -45.  122.  190.]\n",
      " ...\n",
      " [  61.  186.  159. ...  -11.  -36.  205.]\n",
      " [ 209.   20. -272. ... -250. -394. -264.]\n",
      " [  67.  170.  163. ...   48.   10.  236.]] [0 1 0 1 0 1 0 1 0 1 0 1 0 1 0 1 0 1 0 1 0 1 0 1 0 1 0 1 0 1 0 1 0 1 0 1 0\n",
      " 1 0 1 0 1 0 1 0 1 0 1 0 1 0 1 0 1 0 1 0 1 0 1]\n",
      "[[  67.  170.  163. ...   48.   10.  236.]\n",
      " [ -34. -100.   64. ...  -45.  122.  190.]\n",
      " [   9.   -5.  113. ...  -43.   66.  205.]\n",
      " ...\n",
      " [ -20.  196.  174. ...  -48.  -33.  209.]\n",
      " [-476.  -70.  -20. ...    6.   83.  314.]\n",
      " [ -59.  180.  162. ...  -49.  -27.  203.]] [[ -57.  -62.  -21. ...   78.   37.  269.]\n",
      " [ -25.  -52.   42. ...  -21.   27.  220.]\n",
      " [-235.   47.  168. ...  -46.   -4.  231.]\n",
      " ...\n",
      " [ -30.  -44.  122. ...  -77.   89.  196.]\n",
      " [-669.   -6.   15. ...   63. -117.  135.]\n",
      " [  61.  186.  159. ...  -11.  -36.  205.]] [1 0 0 1 1 1 1 1 0 1 0 0 0 1 0 0 1 0 0 0 0 1 0 0 1 0 1 0 1 0 0 0 0 1 1 0 1\n",
      " 0 0 1 1 1] [0 0 1 0 1 1 0 1 1 1 1 1 0 1 0 0 1 1]\n",
      "[0 0 1 0 1 1 0 1 1 1 1 1 0 1 0 0 1 1]\n",
      "[0 0 1 0 1 1 0 1 1 1 1 1 0 1 0 0 1 1]\n",
      "1.0 1.0\n"
     ]
    },
    {
     "data": {
      "text/plain": [
       "(1.0, 1.0)"
      ]
     },
     "execution_count": 53,
     "metadata": {},
     "output_type": "execute_result"
    }
   ],
   "source": [
    "experiment(ts2, ts7)"
   ]
  },
  {
   "cell_type": "code",
   "execution_count": 54,
   "metadata": {},
   "outputs": [
    {
     "name": "stdout",
     "output_type": "stream",
     "text": [
      "[[  241.   177.   110. ... -3199.  -146.  -327.]\n",
      " [ -546.   -98.    68. ...   130.   -61.    72.]\n",
      " [  219.   148.    60. ... -3089.   -61.  -255.]\n",
      " ...\n",
      " [   61.   186.   159. ...   -11.   -36.   205.]\n",
      " [  169.    60.   -16. ... -2905.    67.   180.]\n",
      " [   67.   170.   163. ...    48.    10.   236.]] [0 1 0 1 0 1 0 1 0 1 0 1 0 1 0 1 0 1 0 1 0 1 0 1 0 1 0 1 0 1 0 1 0 1 0 1 0\n",
      " 1 0 1 0 1 0 1 0 1 0 1 0 1 0 1 0 1 0 1 0 1 0 1]\n",
      "[[   40.   227.   186. ...   -33.   -43.   205.]\n",
      " [  275.    53.    94. ... -2840.   -63.  -182.]\n",
      " [  143.    19.   -20. ... -2792.    78.  -134.]\n",
      " ...\n",
      " [  166.    46.   -33. ... -2900.    28.  -191.]\n",
      " [ -538.   -83.   -39. ...    30.    98.   328.]\n",
      " [ -235.    47.   168. ...   -46.    -4.   231.]] [[ -628.    -3.     3. ...    53.  -112.   121.]\n",
      " [ -708.   -66.    83. ...    82.   -70.   222.]\n",
      " [  149.     4.   -10. ... -2871.   -66.  -213.]\n",
      " ...\n",
      " [  225.    38.    25. ... -2852.   -66.  -187.]\n",
      " [  364.   174.   181. ... -2730.   102.    22.]\n",
      " [  173.    31.    41. ... -2805.    89.   164.]] [1 0 0 1 0 0 1 0 0 1 0 1 0 1 1 0 1 0 1 1 0 0 1 1 1 0 1 1 0 1 0 0 1 0 1 1 0\n",
      " 1 1 0 1 1] [1 1 0 1 1 0 0 0 0 0 0 1 1 0 1 0 0 0]\n",
      "[1 1 0 1 1 0 0 0 0 0 0 1 1 0 1 0 0 0]\n",
      "[1 1 0 1 1 0 0 0 0 0 0 1 1 0 1 0 0 0]\n",
      "1.0 1.0\n"
     ]
    },
    {
     "data": {
      "text/plain": [
       "(1.0, 1.0)"
      ]
     },
     "execution_count": 54,
     "metadata": {},
     "output_type": "execute_result"
    }
   ],
   "source": [
    "experiment(ts3, ts7)"
   ]
  },
  {
   "cell_type": "code",
   "execution_count": 55,
   "metadata": {},
   "outputs": [
    {
     "name": "stdout",
     "output_type": "stream",
     "text": [
      "[[  81.   92.   86. ...  153.   71.   69.]\n",
      " [-546.  -98.   68. ...  130.  -61.   72.]\n",
      " [ 108.  116.  123. ...  178.   59.   91.]\n",
      " ...\n",
      " [  61.  186.  159. ...  -11.  -36.  205.]\n",
      " [  77.   35.   29. ...   46.  -75.   67.]\n",
      " [  67.  170.  163. ...   48.   10.  236.]] [0 1 0 1 0 1 0 1 0 1 0 1 0 1 0 1 0 1 0 1 0 1 0 1 0 1 0 1 0 1 0 1 0 1 0 1 0\n",
      " 1 0 1 0 1 0 1 0 1 0 1 0 1 0 1 0 1 0 1 0 1 0 1]\n",
      "[[ 197.  124.   63. ... -157. -239.   32.]\n",
      " [ -17.    5.  -55. ... -127.  -49.  197.]\n",
      " [-669.   -6.   15. ...   63. -117.  135.]\n",
      " ...\n",
      " [-705.  -51.   82. ...   68.  -91.  185.]\n",
      " [ 104.  101.  145. ...  193.   70.   96.]\n",
      " [-126.  151.   92. ...  -62.  -28.  207.]] [[  87.   90.    7. ... -181. -175.  129.]\n",
      " [-476.  -70.  -20. ...    6.   83.  314.]\n",
      " [-300.    5.  159. ...  -35.    4.  250.]\n",
      " ...\n",
      " [-638.  -97.  -34. ...   82.   86.  349.]\n",
      " [-195.  103.  115. ...  -48.   -2.  224.]\n",
      " [-538.  -83.  -39. ...   30.   98.  328.]] [0 0 1 1 1 0 0 0 0 1 1 0 0 0 0 1 0 1 1 0 1 0 1 0 0 1 0 0 0 0 0 1 1 1 0 0 0\n",
      " 1 0 1 0 1] [0 1 1 1 1 1 1 1 0 1 0 0 1 1 0 1 1 1]\n",
      "[0 1 1 1 1 1 1 1 0 1 0 0 1 1 0 1 1 1]\n",
      "[0 1 1 1 1 1 1 1 0 1 0 0 1 1 0 1 1 1]\n",
      "1.0 1.0\n"
     ]
    },
    {
     "data": {
      "text/plain": [
       "(1.0, 1.0)"
      ]
     },
     "execution_count": 55,
     "metadata": {},
     "output_type": "execute_result"
    }
   ],
   "source": [
    "experiment(ts4, ts7)"
   ]
  },
  {
   "cell_type": "code",
   "execution_count": 56,
   "metadata": {},
   "outputs": [
    {
     "name": "stdout",
     "output_type": "stream",
     "text": [
      "[[-323.  -55.  -79. ...  -93.  -55.  164.]\n",
      " [-546.  -98.   68. ...  130.  -61.   72.]\n",
      " [-265.   51.   29. ... -106. -126.  137.]\n",
      " ...\n",
      " [  61.  186.  159. ...  -11.  -36.  205.]\n",
      " [  35.  -15.   66. ...  227.  197. -201.]\n",
      " [  67.  170.  163. ...   48.   10.  236.]] [0 1 0 1 0 1 0 1 0 1 0 1 0 1 0 1 0 1 0 1 0 1 0 1 0 1 0 1 0 1 0 1 0 1 0 1 0\n",
      " 1 0 1 0 1 0 1 0 1 0 1 0 1 0 1 0 1 0 1 0 1 0 1]\n",
      "[[-269. -138.   15. ...  303.  -17.  -51.]\n",
      " [-349.  -15.  107. ...   -3.   35.  274.]\n",
      " [-320.  -12.   41. ...  -61. -238.   23.]\n",
      " ...\n",
      " [-315.  -12. -120. ...   88. -242.  -60.]\n",
      " [  64.   45.   77. ...   94.  -96. -415.]\n",
      " [  85.  109.  133. ...  137.  -97. -372.]] [[-538.  -83.  -39. ...   30.   98.  328.]\n",
      " [-235.   47.  168. ...  -46.   -4.  231.]\n",
      " [  85.  130.  151. ...  187.  -91. -322.]\n",
      " ...\n",
      " [-589. -103.   60. ...   91.  -85.   86.]\n",
      " [-379.  -27.  -89. ...    1. -269.  -57.]\n",
      " [  67.  224.  188. ...   -8.  -33.  188.]] [0 1 0 1 0 1 0 1 1 1 1 0 1 1 1 1 0 0 1 0 0 0 1 1 1 1 0 1 0 0 0 1 0 1 0 1 0\n",
      " 0 1 0 0 0] [1 1 0 0 1 0 0 1 0 1 0 0 1 0 1 1 0 1]\n",
      "[1 1 0 0 1 0 0 1 0 1 0 0 1 0 1 1 0 1]\n",
      "[1 1 0 0 1 0 0 1 0 1 0 0 1 0 1 1 0 1]\n",
      "1.0 1.0\n"
     ]
    },
    {
     "data": {
      "text/plain": [
       "(1.0, 1.0)"
      ]
     },
     "execution_count": 56,
     "metadata": {},
     "output_type": "execute_result"
    }
   ],
   "source": [
    "experiment(ts5, ts7)"
   ]
  },
  {
   "cell_type": "code",
   "execution_count": 57,
   "metadata": {},
   "outputs": [
    {
     "name": "stdout",
     "output_type": "stream",
     "text": [
      "[[-339.   82.   71. ...   71.   32.   30.]\n",
      " [-546.  -98.   68. ...  130.  -61.   72.]\n",
      " [-393.   72.   59. ...   72.   95.   45.]\n",
      " ...\n",
      " [  61.  186.  159. ...  -11.  -36.  205.]\n",
      " [ 209.  -21.  -72. ... -305.  -75. -135.]\n",
      " [  67.  170.  163. ...   48.   10.  236.]] [0 1 0 1 0 1 0 1 0 1 0 1 0 1 0 1 0 1 0 1 0 1 0 1 0 1 0 1 0 1 0 1 0 1 0 1 0\n",
      " 1 0 1 0 1 0 1 0 1 0 1 0 1 0 1 0 1 0 1 0 1 0 1]\n",
      "[[-170.  104.   81. ... -112.  407.  265.]\n",
      " [-628.   -3.    3. ...   53. -112.  121.]\n",
      " [-300.    5.  159. ...  -35.    4.  250.]\n",
      " ...\n",
      " [ -59.  180.  162. ...  -49.  -27.  203.]\n",
      " [-235.   47.  168. ...  -46.   -4.  231.]\n",
      " [-361.  146.  140. ...  -61.  115.   71.]] [[-392.   97.  102. ...   68.  104.   69.]\n",
      " [-342.  196.  255. ... -152.  154.   48.]\n",
      " [-139.   17.  -15. ...   11.  543.  367.]\n",
      " ...\n",
      " [  92. -101.  -79. ... -117.  213.  135.]\n",
      " [ 168.  -50.  -70. ... -263.   -1.  -66.]\n",
      " [-588.  -84.   44. ...   42. -113.   83.]] [0 1 1 0 0 0 0 0 0 1 0 0 1 1 1 1 1 1 1 1 0 1 0 1 1 0 0 1 0 1 0 1 0 0 1 0 0\n",
      " 0 1 1 1 0] [0 0 0 1 1 0 1 0 1 0 1 1 1 0 1 0 0 1]\n",
      "[0 0 0 1 1 0 1 0 1 0 1 1 1 0 1 0 0 1]\n",
      "[0 0 0 1 1 0 1 0 1 0 1 1 1 0 1 0 0 1]\n",
      "1.0 1.0\n"
     ]
    },
    {
     "data": {
      "text/plain": [
       "(1.0, 1.0)"
      ]
     },
     "execution_count": 57,
     "metadata": {},
     "output_type": "execute_result"
    }
   ],
   "source": [
    "experiment(ts6, ts7)"
   ]
  },
  {
   "cell_type": "code",
   "execution_count": null,
   "metadata": {},
   "outputs": [],
   "source": [
    "print(ts1.shape)"
   ]
  },
  {
   "cell_type": "code",
   "execution_count": null,
   "metadata": {},
   "outputs": [],
   "source": [
    "def make_experiment(ts1, ts2, len1=100, len2=100):\n",
    "    t1 = ts1[:len1]\n",
    "    t2 = ts2[:len2]\n",
    "    #print(t1)\n",
    "    #print(t2)\n",
    "    #print(dtaidistance.dtw_ndim.warping_paths(t1, t2)[1])\n",
    "    #print(dtaidistance.dtw_ndim.warping_path(t1, t2))\n",
    "    return dtaidistance.dtw_ndim.warping_path(t1, t2)\n",
    "    #return dtaidistance.dtw_ndim.distance(t1, t2)\n",
    "    #dtaidistance.dtw_ndim.distance(t1, t2, window=None, max_dist=None, max_step=None, max_length_diff=None, penalty=None, psi=None, use_c=False)"
   ]
  },
  {
   "cell_type": "code",
   "execution_count": 90,
   "metadata": {},
   "outputs": [
    {
     "name": "stdout",
     "output_type": "stream",
     "text": [
      "[[ -36.  188.  324. ...  326.  -38.   23.]\n",
      " [ -38.  192.  314. ...  318.   -6.   83.]\n",
      " [ -48.  193.  298. ...  310.    9.  133.]\n",
      " ...\n",
      " [  94.  199.  -72. ...  -28. -284. -166.]\n",
      " [  44.  172.  -96. ...   -4. -295. -135.]\n",
      " [ -11.  149. -123. ...  -18. -267.  -75.]]\n",
      "[[ -64. -143.   64. ... -117. -183. -249.]\n",
      " [ -34. -100.   64. ... -108. -179. -258.]\n",
      " [ -30.  -44.  122. ...  -73. -151. -279.]\n",
      " ...\n",
      " [-264.  343.  184. ...  394. -316. -526.]\n",
      " [-279.  305.  117. ...  365. -337. -520.]\n",
      " [-296.  294.  116. ...  408. -323. -450.]]\n"
     ]
    },
    {
     "ename": "AttributeError",
     "evalue": "module 'dtaidistance.dtw_ndim' has no attribute 'warping_path'",
     "output_type": "error",
     "traceback": [
      "\u001b[0;31m---------------------------------------------------------------------------\u001b[0m",
      "\u001b[0;31mAttributeError\u001b[0m                            Traceback (most recent call last)",
      "\u001b[0;32m<ipython-input-90-ee23da5a1189>\u001b[0m in \u001b[0;36m<module>\u001b[0;34m\u001b[0m\n\u001b[0;32m----> 1\u001b[0;31m \u001b[0mmake_experiment\u001b[0m\u001b[0;34m(\u001b[0m\u001b[0mts1\u001b[0m\u001b[0;34m,\u001b[0m \u001b[0mts2\u001b[0m\u001b[0;34m)\u001b[0m\u001b[0;34m\u001b[0m\u001b[0;34m\u001b[0m\u001b[0m\n\u001b[0m",
      "\u001b[0;32m<ipython-input-89-5e88e58128e5>\u001b[0m in \u001b[0;36mmake_experiment\u001b[0;34m(ts1, ts2, len1, len2)\u001b[0m\n\u001b[1;32m      5\u001b[0m     \u001b[0mprint\u001b[0m\u001b[0;34m(\u001b[0m\u001b[0mt2\u001b[0m\u001b[0;34m)\u001b[0m\u001b[0;34m\u001b[0m\u001b[0;34m\u001b[0m\u001b[0m\n\u001b[1;32m      6\u001b[0m     \u001b[0;31m#print(dtaidistance.dtw_ndim.warping_paths(t1, t2)[1])\u001b[0m\u001b[0;34m\u001b[0m\u001b[0;34m\u001b[0m\u001b[0;34m\u001b[0m\u001b[0m\n\u001b[0;32m----> 7\u001b[0;31m     \u001b[0mprint\u001b[0m\u001b[0;34m(\u001b[0m\u001b[0mdtaidistance\u001b[0m\u001b[0;34m.\u001b[0m\u001b[0mdtw_ndim\u001b[0m\u001b[0;34m.\u001b[0m\u001b[0mwarping_path\u001b[0m\u001b[0;34m(\u001b[0m\u001b[0mt1\u001b[0m\u001b[0;34m,\u001b[0m \u001b[0mt2\u001b[0m\u001b[0;34m)\u001b[0m\u001b[0;34m)\u001b[0m\u001b[0;34m\u001b[0m\u001b[0;34m\u001b[0m\u001b[0m\n\u001b[0m\u001b[1;32m      8\u001b[0m     \u001b[0;32mreturn\u001b[0m \u001b[0mdtaidistance\u001b[0m\u001b[0;34m.\u001b[0m\u001b[0mdtw_ndim\u001b[0m\u001b[0;34m.\u001b[0m\u001b[0mwarping_path\u001b[0m\u001b[0;34m(\u001b[0m\u001b[0mt1\u001b[0m\u001b[0;34m,\u001b[0m \u001b[0mt2\u001b[0m\u001b[0;34m)\u001b[0m\u001b[0;34m\u001b[0m\u001b[0;34m\u001b[0m\u001b[0m\n\u001b[1;32m      9\u001b[0m     \u001b[0;31m#return dtaidistance.dtw_ndim.distance(t1, t2)\u001b[0m\u001b[0;34m\u001b[0m\u001b[0;34m\u001b[0m\u001b[0;34m\u001b[0m\u001b[0m\n",
      "\u001b[0;31mAttributeError\u001b[0m: module 'dtaidistance.dtw_ndim' has no attribute 'warping_path'"
     ]
    }
   ],
   "source": [
    "make_experiment(ts1, ts2)"
   ]
  },
  {
   "cell_type": "code",
   "execution_count": null,
   "metadata": {},
   "outputs": [],
   "source": []
  }
 ],
 "metadata": {
  "kernelspec": {
   "display_name": "Python [conda env:mipt-stats] *",
   "language": "python",
   "name": "conda-env-mipt-stats-py"
  },
  "language_info": {
   "codemirror_mode": {
    "name": "ipython",
    "version": 3
   },
   "file_extension": ".py",
   "mimetype": "text/x-python",
   "name": "python",
   "nbconvert_exporter": "python",
   "pygments_lexer": "ipython3",
   "version": "3.7.6"
  }
 },
 "nbformat": 4,
 "nbformat_minor": 4
}
