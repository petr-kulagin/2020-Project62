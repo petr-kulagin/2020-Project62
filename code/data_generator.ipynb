{
 "cells": [
  {
   "cell_type": "code",
   "execution_count": 6,
   "metadata": {},
   "outputs": [],
   "source": [
    "import numpy as np\n",
    "import matplotlib.pyplot as plt\n",
    "%matplotlib inline"
   ]
  },
  {
   "cell_type": "code",
   "execution_count": 7,
   "metadata": {},
   "outputs": [],
   "source": [
    "data_type = ['sin_data']"
   ]
  },
  {
   "cell_type": "code",
   "execution_count": 1,
   "metadata": {},
   "outputs": [],
   "source": [
    "def generate_sin(shift_time=30, shift_space=5, cnt_series=20, dim=10, length=200):\n",
    "    n_series = cnt_series\n",
    "    length = length\n",
    "    n_dims = dim\n",
    "    \n",
    "    series = []\n",
    "    padding_length_time = shift_time\n",
    "    padding_length_space = shift_space\n",
    "    indices = range(0, length - padding_length)\n",
    "    main_profile_gen = np.array([np.array([np.sin(2.0 * np.pi * j / len(indices) + 2.0 * np.pi * k / (n_dims ** 2)) for k in range(n_dims)])\n",
    "                                         for j in indices])\n",
    "    \n",
    "    print(main_profile_gen.shape)\n",
    "    \n",
    "    colors = ['red', 'blue', 'green', 'orange', 'black']\n",
    "    \n",
    "    fig, ax = plt.subplots(1, n_dims, figsize = (20, 7))\n",
    "    fig.suptitle('main_profile')\n",
    "    for i in range(n_dims):\n",
    "            ax[i].plot(range(0, len(main_profile_gen[:, i])), main_profile_gen[:, i])\n",
    "    plt.show()\n",
    "    \n",
    "    #plt.plot(range(0, len(main_profile_gen[0])), main_profile_gen[0])\n",
    "    \n",
    "    randomizer = lambda j: np.random.normal(j, 0.02)\n",
    "    randomizer_fun = np.vectorize(randomizer)\n",
    "    for i in range(n_series):\n",
    "        n_pad_left = np.random.randint(0, padding_length)\n",
    "        \n",
    "        b = n_pad_left\n",
    "        a = padding_length - n_pad_left\n",
    "        #for i in range(n_dims):\n",
    "        #    pd\n",
    "        padden_pattern = np.zeros((len(indices), n_dims))\n",
    "        for i in range(n_dims):\n",
    "            padded_pattern[:, i] = np.pad(main_profile_gen[:, i], (a, b), mode='constant', constant_values=0)\n",
    "        print(padded_pattern.shape)\n",
    "        \n",
    "        l = np.random.randint(length - 20, length + 1)\n",
    "        padded_pattern = padded_pattern[:l]\n",
    "        padded_pattern = randomizer_fun(padded_pattern)\n",
    "        \n",
    "        series_i = padded_pattern\n",
    "        series.append(series_i)\n",
    "        \n",
    "    plt.figure(figsize=(20, 10))\n",
    "    for s in series:\n",
    "        print(s.shape)\n",
    "        plt.plot(range(0, s.shape[0]), s[0][:, 0])\n",
    "    plt.draw()\n",
    "    plt.show()"
   ]
  },
  {
   "cell_type": "code",
   "execution_count": 2,
   "metadata": {
    "scrolled": false
   },
   "outputs": [
    {
     "ename": "NameError",
     "evalue": "name 'padding_length' is not defined",
     "output_type": "error",
     "traceback": [
      "\u001b[0;31m---------------------------------------------------------------------------\u001b[0m",
      "\u001b[0;31mNameError\u001b[0m                                 Traceback (most recent call last)",
      "\u001b[0;32m<ipython-input-2-1df252ad6e13>\u001b[0m in \u001b[0;36m<module>\u001b[0;34m\u001b[0m\n\u001b[0;32m----> 1\u001b[0;31m \u001b[0mgenerate_sin\u001b[0m\u001b[0;34m(\u001b[0m\u001b[0;34m)\u001b[0m\u001b[0;34m\u001b[0m\u001b[0;34m\u001b[0m\u001b[0m\n\u001b[0m",
      "\u001b[0;32m<ipython-input-1-42bc6d9d7039>\u001b[0m in \u001b[0;36mgenerate_sin\u001b[0;34m(shift_time, shift_space, cnt_series, dim, length)\u001b[0m\n\u001b[1;32m      7\u001b[0m     \u001b[0mpadding_length_time\u001b[0m \u001b[0;34m=\u001b[0m \u001b[0mshift_time\u001b[0m\u001b[0;34m\u001b[0m\u001b[0;34m\u001b[0m\u001b[0m\n\u001b[1;32m      8\u001b[0m     \u001b[0mpadding_length_space\u001b[0m \u001b[0;34m=\u001b[0m \u001b[0mshift_space\u001b[0m\u001b[0;34m\u001b[0m\u001b[0;34m\u001b[0m\u001b[0m\n\u001b[0;32m----> 9\u001b[0;31m     \u001b[0mindices\u001b[0m \u001b[0;34m=\u001b[0m \u001b[0mrange\u001b[0m\u001b[0;34m(\u001b[0m\u001b[0;36m0\u001b[0m\u001b[0;34m,\u001b[0m \u001b[0mlength\u001b[0m \u001b[0;34m-\u001b[0m \u001b[0mpadding_length\u001b[0m\u001b[0;34m)\u001b[0m\u001b[0;34m\u001b[0m\u001b[0;34m\u001b[0m\u001b[0m\n\u001b[0m\u001b[1;32m     10\u001b[0m     main_profile_gen = np.array([np.array([np.sin(2.0 * np.pi * j / len(indices) + 2.0 * np.pi * k / (n_dims ** 2)) for k in range(n_dims)])\n\u001b[1;32m     11\u001b[0m                                          for j in indices])\n",
      "\u001b[0;31mNameError\u001b[0m: name 'padding_length' is not defined"
     ]
    }
   ],
   "source": [
    "generate_sin()"
   ]
  },
  {
   "cell_type": "code",
   "execution_count": null,
   "metadata": {},
   "outputs": [],
   "source": []
  }
 ],
 "metadata": {
  "kernelspec": {
   "display_name": "Python [conda env:mipt-stats] *",
   "language": "python",
   "name": "conda-env-mipt-stats-py"
  },
  "language_info": {
   "codemirror_mode": {
    "name": "ipython",
    "version": 3
   },
   "file_extension": ".py",
   "mimetype": "text/x-python",
   "name": "python",
   "nbconvert_exporter": "python",
   "pygments_lexer": "ipython3",
   "version": "3.7.6"
  }
 },
 "nbformat": 4,
 "nbformat_minor": 4
}
